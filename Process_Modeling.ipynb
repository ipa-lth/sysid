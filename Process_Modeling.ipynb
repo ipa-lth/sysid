{
 "cells": [
  {
   "cell_type": "code",
   "execution_count": 1,
   "metadata": {},
   "outputs": [
    {
     "name": "stderr",
     "output_type": "stream",
     "text": [
      "/home/ipa325/anaconda3/lib/python3.6/site-packages/statsmodels/compat/pandas.py:56: FutureWarning: The pandas.core.datetools module is deprecated and will be removed in a future version. Please use the pandas.tseries module instead.\n",
      "  from pandas.core import datetools\n"
     ]
    },
    {
     "name": "stdout",
     "output_type": "stream",
     "text": [
      "Populating the interactive namespace from numpy and matplotlib\n"
     ]
    }
   ],
   "source": [
    "import identification as ob\n",
    "import pandas as pd\n",
    "import numpy as np\n",
    "import matplotlib.pyplot as plt\n",
    "from sklearn.metrics import mean_squared_error\n",
    "import control as con\n",
    "import warnings\n",
    "import time\n",
    "start_time = list(time.localtime())[5] \n",
    "#returns the local time at the start of execution. Can be used to calculate the execution time manually\n",
    "%pylab inline\n",
    "warnings.filterwarnings('ignore') \n",
    "#ignores all the warnings that may arise during runtime"
   ]
  },
  {
   "cell_type": "markdown",
   "metadata": {},
   "source": [
    "###### Reading all the data"
   ]
  },
  {
   "cell_type": "code",
   "execution_count": 2,
   "metadata": {
    "collapsed": true
   },
   "outputs": [],
   "source": [
    "control_output_1 = 'data/2017-11-03_14-25-18_control_output.log'\n",
    "task_velocity_1  = 'data/2017-11-03_14-25-19_task_vel.log'\n",
    "\n",
    "control_output_2 = 'data/2017-11-03_14-26-43_control_output.log'\n",
    "task_velocity_2  = 'data/2017-11-03_14-26-43_task_vel.log'\n",
    "\n",
    "control_output_3 = 'data/2017-11-03_14-27-47_control_output.log'\n",
    "task_velocity_3  = 'data/2017-11-03_14-27-47_task_vel.log'\n",
    "\n",
    "control_output_4 = 'data/2017-11-03_14-30-43_control_output.log'\n",
    "task_velocity_4  = 'data/2017-11-03_14-30-43_task_vel.log'\n",
    "\n",
    "df_ist_soll_1 = ob.read_data(control_output_1, task_velocity_1)\n",
    "df_ist_soll_2 = ob.read_data(control_output_2, task_velocity_2)\n",
    "df_ist_soll_3 = ob.read_data(control_output_3, task_velocity_3)\n",
    "df_ist_soll_4 = ob.read_data(control_output_4, task_velocity_4)"
   ]
  },
  {
   "cell_type": "markdown",
   "metadata": {},
   "source": [
    "###### Removing all zeros & the negative trend and reformatting the data in accordance with a unit step response"
   ]
  },
  {
   "cell_type": "code",
   "execution_count": 3,
   "metadata": {
    "collapsed": true
   },
   "outputs": [],
   "source": [
    "#data3 is a data with a special case trend\n",
    "df_ist_soll_3          = df_ist_soll_3[(df_ist_soll_3.x_ist > 0)]\n",
    "#the following code identifies the decreasing trend in x_ist values and removes those values from the dataframe\n",
    "df_ist_soll_3['trend'] = np.sign(df_ist_soll_3['x_ist'].rolling(window = 5).mean().diff().fillna(0)).map({0:'FLAT', 1:'UP', -1:'DOWN'})\n",
    "reversed_array = list(df_ist_soll_3.trend.values)[::-1]\n",
    "counter = 0\n",
    "for i in range(0, len(reversed_array)):\n",
    "    if reversed_array[i] == 'DOWN':\n",
    "        counter = counter + 1\n",
    "    else:\n",
    "        break\n",
    "length             = len(df_ist_soll_3)\n",
    "df_ist_soll_3      = df_ist_soll_3.head(length - counter)\n",
    "\n",
    "\n",
    "df_ist_soll_set = [df_ist_soll_1, df_ist_soll_2, df_ist_soll_3, df_ist_soll_4]\n",
    "xin_array, yout_array, t_array = ob.strip_multiply(df_ist_soll_set)"
   ]
  },
  {
   "cell_type": "markdown",
   "metadata": {},
   "source": [
    "###### Finding the fitted model and aic values using R "
   ]
  },
  {
   "cell_type": "code",
   "execution_count": 4,
   "metadata": {
    "collapsed": true
   },
   "outputs": [],
   "source": [
    "%load_ext rpy2.ipython"
   ]
  },
  {
   "cell_type": "code",
   "execution_count": 5,
   "metadata": {
    "collapsed": true
   },
   "outputs": [],
   "source": [
    "%%R \n",
    "library(stats) \n",
    "#for using the ar() function\n",
    "library(forecast) \n",
    "#for using the fitted.values() function"
   ]
  },
  {
   "cell_type": "code",
   "execution_count": 6,
   "metadata": {
    "collapsed": true
   },
   "outputs": [],
   "source": [
    "#The function returns the aic,mse and fitted values for a given output data and a given order \n",
    "def order_ar_R(ar_order, output):\n",
    "    %R -i ar_order,output \n",
    "    #data is inputed as a list vector. In a list vector, each element in the list is an array. No space can be provided after comma. If provided, it results in 'NameError: name '' is not defined' error.\n",
    "    %R output                 = unlist(output)  \n",
    "    #converts the list vector back into a single array. Need this step in latest R version 3.4.2.\n",
    "    %R ar_system              = ar(output, method = \"ols\", order.max = ar_order)\n",
    "    %R fitted_ar_with_missing = fitted.values(ar_system) \n",
    "    #the lower values in the output data contributes to NA/missing values in the fitted values. This corresponds to the delay in the output data.\n",
    "    %R -o fitted_ar_with_missing\n",
    "    \n",
    "    fitted_ar_without_missing = np.nan_to_num(fitted_ar_with_missing) \n",
    "    #the missing values becomes nan values in Python and they are converted to 0. It becomes easier in finding the delay for our model.\n",
    "    mse_ar = mean_squared_error(output,fitted_ar_without_missing)\n",
    "        \n",
    "    %R -i mse_ar\n",
    "    %R output_length = length(output) \n",
    "    %R aic_ar        = (output_length * log(mse_ar)) + (2 * ar_order) + (output_length * dim(matrix(output))[2] * (log(2 * pi) + 1)) #result obtained from https://rdrr.io/cran/sysid/src/R/estpoly.R\n",
    "    %R -o aic_ar,mse_ar\n",
    "    \n",
    "    return list(aic_ar), mse_ar, fitted_ar_without_missing"
   ]
  },
  {
   "cell_type": "markdown",
   "metadata": {},
   "source": [
    "###### Finding the fitted model and aic values using Python "
   ]
  },
  {
   "cell_type": "code",
   "execution_count": 7,
   "metadata": {
    "collapsed": true
   },
   "outputs": [],
   "source": [
    "order_ar_P = ob.order_ar_P"
   ]
  },
  {
   "cell_type": "markdown",
   "metadata": {},
   "source": [
    "###### MSE and AIC Dataframe for orders 1 to 10 along with fitted values"
   ]
  },
  {
   "cell_type": "code",
   "execution_count": 8,
   "metadata": {
    "collapsed": true
   },
   "outputs": [],
   "source": [
    "#The function returns a dataframe that contains the aic,mse and order values from 1 to 10 along with the fitted values for each order \n",
    "def order_aic_mse_fit(yout):\n",
    "    aic                  = []\n",
    "    order                = []\n",
    "    mse                  = []\n",
    "    fit_values           = []\n",
    "    aic_mse_fit_df       = [] \n",
    "    aic_mse_fit_df.append([])\n",
    "    #2D array in which each element stores two floats(aic and mse) and an array(fit_values)\n",
    "   \n",
    "    for i in range(1,11):\n",
    "        order.append(i)\n",
    "        aic_mse_fit_df.append(order_ar_P(i,yout))\n",
    "        aic.append(aic_mse_fit_df[i][0])\n",
    "        mse.append(aic_mse_fit_df[i][1])\n",
    "        fit_values.append(aic_mse_fit_df[i][2])\n",
    "    \n",
    "    df = pd.DataFrame(np.column_stack([order, aic, mse]),\\\n",
    "                      columns=['order', 'aic', 'mse']) \n",
    "    #all variables are passed into the dataframe as type float by default  \n",
    "    return df, fit_values\n",
    "\n",
    "\n",
    "df_fit_array = []\n",
    "df_array = []\n",
    "fit_val = []\n",
    "\n",
    "for i in range(0, len(yout_array)):\n",
    "    df_fit_array.append(order_aic_mse_fit(yout_array[i]))\n",
    "    df_array.append(df_fit_array[i][0])\n",
    "    fit_val.append(df_fit_array[i][1])"
   ]
  },
  {
   "cell_type": "markdown",
   "metadata": {},
   "source": [
    "###### Selecting the best order and the corresponding aic, mse and fitted values for each data based on low mse value"
   ]
  },
  {
   "cell_type": "code",
   "execution_count": 9,
   "metadata": {
    "collapsed": true
   },
   "outputs": [],
   "source": [
    "#oma_best is an array that contains order, mse and aic values of the best fit data\n",
    "oma_best    = []\n",
    "mse_best    = []\n",
    "aic_best    = []\n",
    "order_best  = []\n",
    "fitted_best = []\n",
    "\n",
    "for i in range(0, len(df_fit_array)):\n",
    "    oma_best.append(list(df_array[i][df_array[i].mse == df_array[i].mse.min()].values[0]))\n",
    "    order_best.append(oma_best[i][0])\n",
    "    mse_best.append(oma_best[i][1])\n",
    "    aic_best.append(oma_best[i][2])    \n",
    "    fitted_best.append(fit_val[i][int(order_best[i]) - 1])"
   ]
  },
  {
   "cell_type": "markdown",
   "metadata": {},
   "source": [
    "###### Smoothing all the model outputs"
   ]
  },
  {
   "cell_type": "code",
   "execution_count": 10,
   "metadata": {
    "collapsed": true
   },
   "outputs": [],
   "source": [
    "smooth_1 = []\n",
    "smooth_2 = []\n",
    "\n",
    "for i in range(0, len(fitted_best)):\n",
    "    smooth_1.append(ob.smooth(fitted_best[i], 1))\n",
    "    smooth_2.append(ob.smooth(fitted_best[i], 2))"
   ]
  },
  {
   "cell_type": "markdown",
   "metadata": {},
   "source": [
    "###### PT1 and PT2 Modeling on all data "
   ]
  },
  {
   "cell_type": "code",
   "execution_count": 11,
   "metadata": {
    "collapsed": true,
    "scrolled": true
   },
   "outputs": [],
   "source": [
    "#youto,to are the yout and t outputs from the pt1 and pt2 system\n",
    "#tf and delay are the transfer functions of the output and its delay\n",
    "#tdytdts is an array that contains all the above values in a sequential order\n",
    "to_1           = []\n",
    "to_2           = []\n",
    "tf_1           = []\n",
    "tf_2           = []\n",
    "zeta           = []\n",
    "youto_1        = []\n",
    "youto_2        = []\n",
    "delay_1        = []\n",
    "delay_2        = []\n",
    "tdytdts_1      = []\n",
    "tdytdts_2      = [] \n",
    "delay_tf_1     = []\n",
    "delay_tf_2     = [] \n",
    "steady_state_1 = []\n",
    "steady_state_2 = []\n",
    "time_constant_1 = []\n",
    "time_constant_2 = []\n",
    "\n",
    "for i in range(0,len(smooth_1)):\n",
    "    tdytdts_1.append(ob.pt1(smooth_1[i], t_array[i]))\n",
    "    tf_1.append(tdytdts_1[i][0])\n",
    "    youto_1.append(tdytdts_1[i][1])\n",
    "    to_1.append(tdytdts_1[i][2])\n",
    "    delay_1.append(tdytdts_1[i][3])\n",
    "    time_constant_1.append(tdytdts_1[i][4])\n",
    "    steady_state_1.append(tdytdts_1[i][5])\n",
    "        \n",
    "    tdytdts_2.append(ob.pt2(smooth_2[i], t_array[i]))\n",
    "    tf_2.append(tdytdts_2[i][0])\n",
    "    youto_2.append(tdytdts_2[i][1])\n",
    "    to_2.append(tdytdts_2[i][2])\n",
    "    delay_2.append(tdytdts_2[i][3])\n",
    "    time_constant_2.append(tdytdts_2[i][4])\n",
    "    steady_state_2.append(tdytdts_2[i][5])\n",
    "    zeta.append(tdytdts_2[i][6])\n",
    "    "
   ]
  },
  {
   "cell_type": "markdown",
   "metadata": {},
   "source": [
    "###### Finding the best model in pt1 and pt2 "
   ]
  },
  {
   "cell_type": "code",
   "execution_count": 12,
   "metadata": {},
   "outputs": [
    {
     "data": {
      "text/plain": [
       "A = [[ -52.12875619 -459.87552219]\n",
       " [   1.            0.        ]]\n",
       "\n",
       "B = [[ 1.]\n",
       " [ 0.]]\n",
       "\n",
       "C = [[ -11.4400045   467.65720287]]\n",
       "\n",
       "D = [[ 0.]]"
      ]
     },
     "execution_count": 12,
     "metadata": {},
     "output_type": "execute_result"
    },
    {
     "data": {
      "image/png": "[encoded data removed]",
      "text/plain": [
       "<matplotlib.figure.Figure at 0x7fbf864bec18>"
      ]
     },
     "metadata": {},
     "output_type": "display_data"
    }
   ],
   "source": [
    "ideal_tf_pt1, ideal_model_output_pt1, ideal_model_time_pt1 = ob.ideal_pt1(steady_state_1, time_constant_1, delay_1)\n",
    "plt.plot(ideal_model_time_pt1, ideal_model_output_pt1, label = 'ideal model pt1')\n",
    "plt.plot(t_array[0], yout_array[0], label='1st data')\n",
    "plt.legend()\n",
    "ob.ss(ideal_tf_pt1)"
   ]
  },
  {
   "cell_type": "code",
   "execution_count": 13,
   "metadata": {},
   "outputs": [
    {
     "data": {
      "text/plain": [
       "A = [[ -5.99619038e+01  -9.34103083e+02  -6.29601494e+03]\n",
       " [  1.00000000e+00   0.00000000e+00   0.00000000e+00]\n",
       " [  0.00000000e+00   1.00000000e+00   0.00000000e+00]]\n",
       "\n",
       "B = [[ 1.]\n",
       " [ 0.]\n",
       " [ 0.]]\n",
       "\n",
       "C = [[    0.          -157.07317837  6421.01174616]]\n",
       "\n",
       "D = [[ 0.]]"
      ]
     },
     "execution_count": 13,
     "metadata": {},
     "output_type": "execute_result"
    },
    {
     "data": {
      "image/png": "[encoded data removed]",
      "text/plain": [
       "<matplotlib.figure.Figure at 0x7fbf86466748>"
      ]
     },
     "metadata": {},
     "output_type": "display_data"
    }
   ],
   "source": [
    "ideal_tf_pt2, ideal_model_output_pt2, ideal_model_time_pt2 = ob.ideal_pt2(steady_state_2, time_constant_2, delay_2, zeta)\n",
    "plt.plot(ideal_model_time_pt2, ideal_model_output_pt2, label = 'ideal model pt2')\n",
    "plt.plot(t_array[0], yout_array[0], label='1st data')\n",
    "plt.legend()\n",
    "ob.ss(ideal_tf_pt2)"
   ]
  },
  {
   "cell_type": "code",
   "execution_count": 14,
   "metadata": {},
   "outputs": [
    {
     "name": "stdout",
     "output_type": "stream",
     "text": [
      "Total execution time is  34  seconds\n"
     ]
    }
   ],
   "source": [
    "end_time = list(time.localtime())[5]\n",
    "s=np.subtract(end_time, start_time)\n",
    "print('Total execution time is ',abs(s),' seconds')"
   ]
  }
 ],
 "metadata": {
  "kernelspec": {
   "display_name": "Python 3",
   "language": "python",
   "name": "python3"
  },
  "language_info": {
   "codemirror_mode": {
    "name": "ipython",
    "version": 3
   },
   "file_extension": ".py",
   "mimetype": "text/x-python",
   "name": "python",
   "nbconvert_exporter": "python",
   "pygments_lexer": "ipython3",
   "version": "3.6.3"
  }
 },
 "nbformat": 4,
 "nbformat_minor": 2
}
