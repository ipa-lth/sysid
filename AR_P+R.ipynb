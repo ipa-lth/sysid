{
 "cells": [
  {
   "cell_type": "code",
   "execution_count": null,
   "metadata": {},
   "outputs": [],
   "source": [
    "import identification as ob\n",
    "import pandas as pd\n",
    "import numpy as np\n",
    "import matplotlib.pyplot as plt\n",
    "from sklearn.metrics import mean_squared_error\n",
    "import control as con\n",
    "import warnings\n",
    "import time\n",
    "start_time = list(time.localtime())[5] #returns the local time at the start of execution. Can be used to calculate the execution time manually\n",
    "%pylab inline\n",
    "warnings.filterwarnings('ignore') #ignores all the warnings that may arise during runtime"
   ]
  },
  {
   "cell_type": "markdown",
   "metadata": {},
   "source": [
    "###### Reading all the data"
   ]
  },
  {
   "cell_type": "code",
   "execution_count": null,
   "metadata": {},
   "outputs": [],
   "source": [
    "control_output_1 = 'data/2017-11-03_14-25-18_control_output.log'\n",
    "task_velocity_1  = 'data/2017-11-03_14-25-19_task_vel.log'\n",
    "\n",
    "control_output_2 = 'data/2017-11-03_14-26-43_control_output.log'\n",
    "task_velocity_2  = 'data/2017-11-03_14-26-43_task_vel.log'\n",
    "\n",
    "control_output_3 = 'data/2017-11-03_14-27-47_control_output.log'\n",
    "task_velocity_3  = 'data/2017-11-03_14-27-47_task_vel.log'\n",
    "\n",
    "control_output_4 = 'data/2017-11-03_14-30-43_control_output.log'\n",
    "task_velocity_4  = 'data/2017-11-03_14-30-43_task_vel.log'\n",
    "\n",
    "df_ist_soll_1 = ob.read_data(control_output_1, task_velocity_1)\n",
    "df_ist_soll_2 = ob.read_data(control_output_2, task_velocity_2)\n",
    "df_ist_soll_3 = ob.read_data(control_output_3, task_velocity_3)\n",
    "df_ist_soll_4 = ob.read_data(control_output_4, task_velocity_4)\n",
    "#df_ist_soll_1.plot(style = '-', drawstyle = \"steps\")"
   ]
  },
  {
   "cell_type": "markdown",
   "metadata": {},
   "source": [
    "###### Removing all zeros & the negative trend and reformatting the data in accordance with a unit step response"
   ]
  },
  {
   "cell_type": "code",
   "execution_count": null,
   "metadata": {},
   "outputs": [],
   "source": [
    "#data1\n",
    "xin_1, yout_1, t_1 = ob.strip_multiply(df_ist_soll_1)\n",
    "#plt.plot(t_1,yout_1)\n",
    "#plt.plot(t_1,xin_1)\n",
    "\n",
    "\n",
    "#data2\n",
    "xin_2, yout_2, t_2 = ob.strip_multiply(df_ist_soll_2)  \n",
    "#plt.plot(t_2,yout_2)\n",
    "#plt.plot(t_2,xin_2)\n",
    "\n",
    "\n",
    "#data3-data with a special case trend\n",
    "df_ist_soll_3          = df_ist_soll_3[(df_ist_soll_3.x_ist > 0)]\n",
    "#the following code identifies the decreasing trend in x_ist values and removes those values from the dataframe\n",
    "df_ist_soll_3['trend'] = np.sign(df_ist_soll_3['x_ist'].rolling(window = 5).mean().diff().fillna(0)).map({0:'FLAT', 1:'UP', -1:'DOWN'})\n",
    "reversed_array = list(df_ist_soll_3.trend.values)[::-1]\n",
    "counter = 0\n",
    "for i in range(0, len(reversed_array)):\n",
    "    if reversed_array[i] == 'DOWN':\n",
    "        counter = counter + 1\n",
    "    else:\n",
    "        break\n",
    "length             = len(df_ist_soll_3)\n",
    "df_ist_soll_3      = df_ist_soll_3.head(length - counter)\n",
    "xin_3, yout_3, t_3 = ob.strip_multiply(df_ist_soll_3)  \n",
    "#plt.plot(t_3,yout_3)\n",
    "#plt.plot(t_3,xin_3)\n",
    "\n",
    "\n",
    "#data4\n",
    "xin_4, yout_4, t_4 = ob.strip_multiply(df_ist_soll_4)  \n",
    "#plt.plot(t_4,yout_4)\n",
    "#plt.plot(t_4,xin_4)\n",
    "\n",
    "\n",
    "yout = [yout_1, yout_2, yout_3, yout_4]\n",
    "t = [t_1, t_2, t_3, t_4]"
   ]
  },
  {
   "cell_type": "markdown",
   "metadata": {},
   "source": [
    "###### Finding the fitted model and aic values using R "
   ]
  },
  {
   "cell_type": "code",
   "execution_count": null,
   "metadata": {},
   "outputs": [],
   "source": [
    "%load_ext rpy2.ipython"
   ]
  },
  {
   "cell_type": "code",
   "execution_count": null,
   "metadata": {},
   "outputs": [],
   "source": [
    "%%R \n",
    "library(stats) #need this for using the ar() function\n",
    "library(forecast) #need this for using the fitted.values() function"
   ]
  },
  {
   "cell_type": "code",
   "execution_count": null,
   "metadata": {
    "collapsed": true
   },
   "outputs": [],
   "source": [
    "#The function returns the aic,mse and fitted values for a given output data and a given order \n",
    "def order_ar_R(ar_order, output):\n",
    "    %R -i ar_order,output #data is inputed as a list vector. In a list vector, each element in the list is an array. No space can be provided after comma. If provided, it results in 'NameError: name '' is not defined' error.\n",
    "    %R output                 = unlist(output)  #converts the list vector back into a single array. Need this step in latest R version 3.4.2.\n",
    "    %R ar_system              = ar(output, method = \"ols\", order.max = ar_order)\n",
    "    %R fitted_ar_with_missing = fitted.values(ar_system) #the lower values in the output data contributes to NA/missing values in the fitted values. This corresponds to the delay in the output data.\n",
    "    %R -o fitted_ar_with_missing\n",
    "    \n",
    "    fitted_ar_without_missing = np.nan_to_num(fitted_ar_with_missing) #the missing values becomes nan values in Python and they are converted to 0. It becomes easier in finding the delay for our model.\n",
    "    mse_ar = mean_squared_error(output,fitted_ar_without_missing)\n",
    "        \n",
    "    %R -i mse_ar\n",
    "    %R output_length = length(output) \n",
    "    %R aic_ar        = (output_length * log(mse_ar)) + (2 * ar_order) + (output_length * dim(matrix(output))[2] * (log(2 * pi) + 1)) #result obtained from https://rdrr.io/cran/sysid/src/R/estpoly.R\n",
    "    %R -o aic_ar,mse_ar\n",
    "    \n",
    "    return list(aic_ar), mse_ar, fitted_ar_without_missing"
   ]
  },
  {
   "cell_type": "markdown",
   "metadata": {},
   "source": [
    "###### Finding the fitted model and aic values using Python "
   ]
  },
  {
   "cell_type": "code",
   "execution_count": null,
   "metadata": {
    "collapsed": true
   },
   "outputs": [],
   "source": [
    "order_ar_P = ob.order_ar_P"
   ]
  },
  {
   "cell_type": "markdown",
   "metadata": {},
   "source": [
    "###### MSE and AIC Dataframe for orders 1 to 10 along with fitted values"
   ]
  },
  {
   "cell_type": "code",
   "execution_count": null,
   "metadata": {},
   "outputs": [],
   "source": [
    "#The function returns a dataframe that contains the aic,mse and order values from 1 to 10 along with the fitted values for each order \n",
    "\n",
    "def order_aic_mse_fit(yout):\n",
    "    aic                  = []\n",
    "    order                = []\n",
    "    mse                  = []\n",
    "    fit_array            = []\n",
    "    aic_mse_fit_df       = [] \n",
    "    aic_mse_fit_df.append([])#2D array in which each element stores two floats(aic and mse) and an array(fit_array)\n",
    "   \n",
    "    for i in range(1,11):\n",
    "        order.append(i)\n",
    "        aic_mse_fit_df.append(order_ar_P(i,yout))\n",
    "        aic.append(aic_mse_fit_df[i][0])\n",
    "        mse.append(aic_mse_fit_df[i][1])\n",
    "        fit_array.append(aic_mse_fit_df[i][2])\n",
    "    \n",
    "    df = pd.DataFrame(np.column_stack([order, aic, mse]),columns=['order', 'aic', 'mse']) #all variables are passed into the dataframe as type float by default  \n",
    "    return df, fit_array\n",
    "    \n",
    "\n",
    "df_1, fit_array_1 = order_aic_mse_fit(yout_1)\n",
    "df_2, fit_array_2 = order_aic_mse_fit(yout_2)\n",
    "df_3, fit_array_3 = order_aic_mse_fit(yout_3)\n",
    "df_4, fit_array_4 = order_aic_mse_fit(yout_4)"
   ]
  },
  {
   "cell_type": "markdown",
   "metadata": {},
   "source": [
    "###### Selecting the best order and the corresponding aic, mse and fitted values for each data based on low mse value"
   ]
  },
  {
   "cell_type": "code",
   "execution_count": null,
   "metadata": {},
   "outputs": [],
   "source": [
    "order_1, mse_ar_1, aic_ar_1 = list(df_1[df_1.mse == df_1.mse.min()].values[0]) #list function lists the df row having the least mse into a 1D array \n",
    "fitted_1                    = fit_array_1[int(order_1) - 1]#int function converts the order back to the integer value. Order-1 gives the corresponding index value \n",
    "\n",
    "order_2, mse_ar_2, aic_ar_2 = list(df_2[df_2.mse == df_2.mse.min()].values[0])\n",
    "fitted_2                    = fit_array_2[int(order_2) - 1]\n",
    "\n",
    "order_3, mse_ar_3, aic_ar_3 = list(df_3[df_3.mse == df_3.mse.min()].values[0])\n",
    "fitted_3                    = fit_array_3[int(order_3) - 1]\n",
    "\n",
    "order_4, mse_ar_4, aic_ar_4 = list(df_4[df_4.mse == df_4.mse.min()].values[0])\n",
    "fitted_4                    = fit_array_4[int(order_4) - 1]\n",
    "\n",
    "#plt.plot(t_4,yout_4,label='original')\n",
    "#plt.plot(t_4,fitted_4,label='model')\n",
    "#plt.legend()"
   ]
  },
  {
   "cell_type": "markdown",
   "metadata": {},
   "source": [
    "###### Smoothing all the model outputs"
   ]
  },
  {
   "cell_type": "code",
   "execution_count": null,
   "metadata": {},
   "outputs": [],
   "source": [
    "smooth_11 = ob.smooth(fitted_1, 1)\n",
    "smooth_21 = ob.smooth(fitted_2, 1)\n",
    "smooth_31 = ob.smooth(fitted_3, 1)\n",
    "smooth_41 = ob.smooth(fitted_4, 1)\n",
    "\n",
    "smooth_12 = ob.smooth(fitted_1, 2)\n",
    "smooth_22 = ob.smooth(fitted_2, 2)\n",
    "smooth_32 = ob.smooth(fitted_3, 2)\n",
    "smooth_42 = ob.smooth(fitted_4, 2)\n",
    "\n",
    "#smooth_11 = ob.smooth(yout_1, 1)\n",
    "#smooth_21 = ob.smooth(yout_2, 1)\n",
    "#smooth_31 = ob.smooth(yout_3, 1)\n",
    "#smooth_41 = ob.smooth(yout_4, 1)\n",
    "\n",
    "#smooth_12 = ob.smooth(yout_1, 2)\n",
    "#smooth_22 = ob.smooth(yout_2, 2)\n",
    "#smooth_32 = ob.smooth(yout_3, 2)\n",
    "#smooth_42 = ob.smooth(yout_4, 2)\n",
    "\n",
    "#plt.plot(t_1, smooth_11, label='smoothed')\n",
    "#plt.plot(t_1, fitted_1, label='fitted_values')\n",
    "#plt.plot(t_1, yout_1, label='data')\n",
    "#plt.legend()"
   ]
  },
  {
   "cell_type": "markdown",
   "metadata": {},
   "source": [
    "###### PT1 and PT2 Modeling on all data "
   ]
  },
  {
   "cell_type": "code",
   "execution_count": null,
   "metadata": {},
   "outputs": [],
   "source": [
    "#youto,to are the yout and t outputs from the pt1 and pt2 system\n",
    "tf_11, delay_11, youto_11, to_11 = ob.pt1(smooth_11, t_1)\n",
    "tf_21, delay_21, youto_21, to_21 = ob.pt1(smooth_21, t_2)\n",
    "tf_31, delay_31, youto_31, to_31 = ob.pt1(smooth_31, t_3)\n",
    "tf_41, delay_41, youto_41, to_41 = ob.pt1(smooth_41, t_4)\n",
    "tf_12, delay_12, youto_12, to_12 = ob.pt2(smooth_12, t_1)\n",
    "tf_22, delay_22, youto_22, to_22 = ob.pt2(smooth_22, t_2)\n",
    "tf_32, delay_32, youto_32, to_32 = ob.pt2(smooth_32, t_3)\n",
    "tf_42, delay_42, youto_42, to_42 = ob.pt2(smooth_42, t_4)\n",
    "\n",
    "youto1 = [youto_11, youto_21, youto_31, youto_41]\n",
    "to1    = [to_11, to_21, to_31, to_41]\n",
    "youto2 = [youto_12, youto_22, youto_32, youto_42]\n",
    "to2    = [to_12, to_22, to_32, to_42]\n",
    "\n",
    "#plt.plot(to_2,youto_2)\n",
    "#plt.plot(T_2,yout_2)"
   ]
  },
  {
   "cell_type": "markdown",
   "metadata": {},
   "source": [
    "###### State space representation "
   ]
  },
  {
   "cell_type": "code",
   "execution_count": null,
   "metadata": {
    "collapsed": true
   },
   "outputs": [],
   "source": [
    "#the function returns the steady state(ss) parameters for a given transfer function\n",
    "def ss(TF):\n",
    "    ss_parameters = con.matlab.tf2ss(TF)\n",
    "    return ss_parameters\n",
    "\n",
    "ss_11 = ss(tf_11 * delay_11)\n",
    "ss_21 = ss(tf_21 * delay_21)\n",
    "ss_31 = ss(tf_31 * delay_31)\n",
    "ss_41 = ss(tf_41 * delay_41)\n",
    "ss_12 = ss(tf_12 * delay_12)\n",
    "ss_22 = ss(tf_22 * delay_22)\n",
    "ss_32 = ss(tf_32 * delay_32)\n",
    "ss_42 = ss(tf_42 * delay_42)\n",
    "ss1 = [ss_11, ss_21, ss_31, ss_41]\n",
    "ss2 = [ss_12, ss_22, ss_32, ss_42]"
   ]
  },
  {
   "cell_type": "markdown",
   "metadata": {},
   "source": [
    "###### Mean square comparison of each data and its model"
   ]
  },
  {
   "cell_type": "code",
   "execution_count": null,
   "metadata": {},
   "outputs": [],
   "source": [
    "mse_11 = ob.mse(yout_1, t_1, youto_11, to_11)\n",
    "mse_21 = ob.mse(yout_2, t_2, youto_21, to_21)\n",
    "mse_31 = ob.mse(yout_3, t_3, youto_31, to_31)\n",
    "mse_41 = ob.mse(yout_4, t_4, youto_41, to_41)\n",
    "mse_12 = ob.mse(yout_1, t_1, youto_12, to_12)\n",
    "mse_22 = ob.mse(yout_2, t_2, youto_22, to_22)\n",
    "mse_32 = ob.mse(yout_3, t_3, youto_32, to_32)\n",
    "mse_42 = ob.mse(yout_4, t_4, youto_42, to_42)\n",
    "mse1 = [mse_11, mse_21, mse_31, mse_41]\n",
    "mse2 = [mse_12, mse_22, mse_32, mse_42]"
   ]
  },
  {
   "cell_type": "markdown",
   "metadata": {},
   "source": [
    "###### PT1 and PT2 Model response of all the dataset"
   ]
  },
  {
   "cell_type": "code",
   "execution_count": null,
   "metadata": {
    "scrolled": false
   },
   "outputs": [],
   "source": [
    "from __future__ import print_function\n",
    "from ipywidgets import interact, interactive, fixed, interact_manual\n",
    "import ipywidgets as widgets\n",
    "def display_pt1(x):\n",
    "    plt.plot(to1[x-1], youto1[x-1], label = 'pt1 model')\n",
    "    plt.plot(t[x-1], yout[x-1], label = 'data')\n",
    "    plt.legend()\n",
    "    print('Mean square error is:')\n",
    "    print(mse1[x-1])\n",
    "    return ss1[x-1]\n",
    "def display_pt2(x):\n",
    "    plt.plot(to2[x-1], youto2[x-1], label = 'pt2 model')\n",
    "    plt.plot(t[x-1], yout[x-1], label = 'data')\n",
    "    plt.legend()\n",
    "    print('Mean square error is:')\n",
    "    print(mse2[x-1])\n",
    "    return ss2[x-1]\n",
    "def selection(s):\n",
    "    if s == 'pt1':\n",
    "        #interact(display_pt1,x = widgets.IntSlider(min=1,max=4,step=1));\n",
    "        interact(display_pt1, x = widgets.RadioButtons(options = [1, 2, 3, 4], value = 1, description = 'Data:', disabled = False));\n",
    "    else:\n",
    "        #interact(display_pt2,x = widgets.IntSlider(min=1,max=4,step=1));\n",
    "        interact(display_pt2, x = widgets.RadioButtons(options = [1, 2, 3, 4], value = 1, description = 'Data:', disabled = False));\n",
    "\n",
    "interact(selection, s = widgets.RadioButtons(options = ['pt1', 'pt2'], value = 'pt1', description = 'System:', disabled = False));"
   ]
  },
  {
   "cell_type": "markdown",
   "metadata": {},
   "source": [
    "###### Selecting the best model parameters among the dataset "
   ]
  },
  {
   "cell_type": "code",
   "execution_count": null,
   "metadata": {
    "scrolled": false
   },
   "outputs": [],
   "source": [
    "#the below loop calculates the model with the lowest mse among both pt1 and pt2 models\n",
    "for i in range(0, len(mse1)):\n",
    "    for j in range(0, len(mse2)):\n",
    "        if(mse1[i] == min(mse1)):\n",
    "            i_low_mse = i\n",
    "        if(mse2[j] == min(mse2)):\n",
    "            j_low_mse = j\n",
    "            \n",
    "if mse2[j_low_mse] < mse1[i_low_mse]:\n",
    "    plt.plot(to2[j_low_mse], youto2[j_low_mse], label = 'pt2 model')\n",
    "    plt.plot(t[j_low_mse], yout[j_low_mse], label = 'data')\n",
    "    plt.legend()\n",
    "    print('The best model is a pt2 system and is obtained from dataset:', j_low_mse + 1) #index value + 1 gives the best dataset \n",
    "    print('Mean square error is:', mse2[j_low_mse])\n",
    "    print('The state space parameters are:')\n",
    "    print(ss2[j_low_mse])\n",
    "else:\n",
    "    plt.plot(to1[i_low_mse], youto1[i_low_mse], label = 'pt2 model')\n",
    "    plt.plot(t[i_low_mse], yout[i_low_mse], label = 'data')\n",
    "    plt.legend()\n",
    "    print('The best model is a pt1 system and is obtained from dataset:', i_low_mse + 1)\n",
    "    print('Mean square error is:', mse1[i_low_mse])\n",
    "    print('The state space parameters are:')\n",
    "    print(ss1[i_low_mse])"
   ]
  },
  {
   "cell_type": "code",
   "execution_count": null,
   "metadata": {},
   "outputs": [],
   "source": [
    "end_time = list(time.localtime())[5]\n",
    "s=np.subtract(end_time, start_time)\n",
    "print('Total execution time is ',abs(s),' seconds')"
   ]
  },
  {
   "cell_type": "code",
   "execution_count": null,
   "metadata": {
    "collapsed": true
   },
   "outputs": [],
   "source": []
  },
  {
   "cell_type": "code",
   "execution_count": null,
   "metadata": {
    "collapsed": true
   },
   "outputs": [],
   "source": []
  }
 ],
 "metadata": {
  "kernelspec": {
   "display_name": "Python 3",
   "language": "python",
   "name": "python3"
  },
  "language_info": {
   "codemirror_mode": {
    "name": "ipython",
    "version": 3
   },
   "file_extension": ".py",
   "mimetype": "text/x-python",
   "name": "python",
   "nbconvert_exporter": "python",
   "pygments_lexer": "ipython3",
   "version": "3.6.3"
  }
 },
 "nbformat": 4,
 "nbformat_minor": 2
}
