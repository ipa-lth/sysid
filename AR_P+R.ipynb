{
 "cells": [
  {
   "cell_type": "code",
   "execution_count": null,
   "metadata": {},
   "outputs": [],
   "source": [
    "import time\n",
    "print(time.localtime()) #returns the local time at the start of execution. Can be used to calculate the execution time manually"
   ]
  },
  {
   "cell_type": "code",
   "execution_count": null,
   "metadata": {},
   "outputs": [],
   "source": [
    "import pandas as pd\n",
    "import numpy as np\n",
    "import matplotlib.pyplot as plt\n",
    "from sklearn.metrics import mean_squared_error\n",
    "import scipy.signal as sig\n",
    "import control as con\n",
    "from statsmodels.tsa.arima_model import ARIMA\n",
    "import warnings\n",
    "%pylab inline\n",
    "warnings.filterwarnings('ignore') #ignores all the warnings that may arise during runtime"
   ]
  },
  {
   "cell_type": "markdown",
   "metadata": {},
   "source": [
    "###### Reading all the data"
   ]
  },
  {
   "cell_type": "code",
   "execution_count": null,
   "metadata": {},
   "outputs": [],
   "source": [
    "#data1\n",
    "df_soll_1 = pd.read_csv('step_log/2017-11-03_ext_topic_logger/2017-11-03_14-25-18_control_output.log',\n",
    "                 header=0,\n",
    "                 names=['time', 'x_soll'])\n",
    "df_soll_1 = df_soll_1.set_index('time')\n",
    "df_soll_1 = df_soll_1[~df_soll_1.index.duplicated(keep='first')] #gets rid of any duplicate values if present\n",
    "df_ist_1 = pd.read_csv('step_log/2017-11-03_ext_topic_logger/2017-11-03_14-25-19_task_vel.log',\n",
    "                 header=0,\n",
    "                 names=['time', 'x_ist'])\n",
    "df_ist_1 = df_ist_1.set_index('time')\n",
    "df_ist_1 = df_ist_1[~df_ist_1.index.duplicated(keep='first')]\n",
    "df_ist_soll_1 = pd.concat([df_soll_1.x_soll, df_ist_1.x_ist], axis=1).fillna(method='pad')\n",
    "df_ist_soll_1 = df_ist_soll_1.fillna(0)\n",
    "#df_ist_soll_1.plot(style='-', drawstyle=\"steps\")\n",
    "#data2\n",
    "df_soll_2 = pd.read_csv('step_log/2017-11-03_ext_topic_logger/2017-11-03_14-26-43_control_output.log',\n",
    "                 header=0,\n",
    "                 names=['time', 'x_soll'])\n",
    "df_soll_2 = df_soll_2.set_index('time')\n",
    "df_ist_2 = pd.read_csv('step_log/2017-11-03_ext_topic_logger/2017-11-03_14-26-43_task_vel.log',\n",
    "                 header=0,\n",
    "                 names=['time', 'x_ist'])\n",
    "df_ist_2 = df_ist_2.set_index('time')\n",
    "df_ist_2 = df_ist_2[~df_ist_2.index.duplicated(keep='first')]\n",
    "df_ist_soll_2 = pd.concat([df_soll_2.x_soll, df_ist_2.x_ist], axis=1).fillna(method='pad')\n",
    "df_ist_soll_2 = df_ist_soll_2.fillna(0)\n",
    "#df_ist_soll_2.plot(style='-', drawstyle=\"steps\")\n",
    "#data3\n",
    "df_soll_3 = pd.read_csv('step_log/2017-11-03_ext_topic_logger/2017-11-03_14-27-47_control_output.log',\n",
    "                 header=0,\n",
    "                 names=['time', 'x_soll'])\n",
    "df_soll_3 = df_soll_3.set_index('time')\n",
    "df_soll_3 = df_soll_3[~df_soll_3.index.duplicated(keep='first')] \n",
    "df_ist_3 = pd.read_csv('step_log/2017-11-03_ext_topic_logger/2017-11-03_14-27-47_task_vel.log',\n",
    "                 header=0,\n",
    "                 names=['time', 'x_ist'])\n",
    "df_ist_3 = df_ist_3.set_index('time')\n",
    "df_ist_3 = df_ist_3[~df_ist_3.index.duplicated(keep='first')]\n",
    "df_ist_soll_3 = pd.concat([df_soll_3.x_soll, df_ist_3.x_ist], axis=1).fillna(method='pad')\n",
    "df_ist_soll_3 = df_ist_soll_3.fillna(0)\n",
    "#df_ist_soll_3.plot(style='-', drawstyle=\"steps\")\n",
    "#data4\n",
    "df_soll_4 = pd.read_csv('step_log/2017-11-03_ext_topic_logger/2017-11-03_14-30-43_control_output.log',\n",
    "                 header=0,\n",
    "                 names=['time', 'x_soll'])\n",
    "df_soll_4 = df_soll_4.set_index('time')\n",
    "df_ist_4 = pd.read_csv('step_log/2017-11-03_ext_topic_logger/2017-11-03_14-30-43_task_vel.log',\n",
    "                 header=0,\n",
    "                 names=['time', 'x_ist'])\n",
    "df_ist_4 = df_ist_4.set_index('time')\n",
    "df_ist_4 = df_ist_4[~df_ist_4.index.duplicated(keep='first')]\n",
    "df_ist_soll_4 = pd.concat([df_soll_4.x_soll, df_ist_4.x_ist], axis=1).fillna(method='pad')\n",
    "df_ist_soll_4 = df_ist_soll_4.fillna(0)\n",
    "#df_ist_soll_4.plot(style='-', drawstyle=\"steps\")"
   ]
  },
  {
   "cell_type": "markdown",
   "metadata": {},
   "source": [
    "###### Removing all zeros & the negative trend and reformatting the data in accordance with a unit step response"
   ]
  },
  {
   "cell_type": "code",
   "execution_count": null,
   "metadata": {},
   "outputs": [],
   "source": [
    "#function that strips zeros and multiplies the dataframe to 1\n",
    "def strip_multiply(dataframe):\n",
    "    no_zero_df                     = dataframe[dataframe.x_soll > 0] #selects the dataframe that has no zeros in x_soll\n",
    "    time_of_step                   = no_zero_df.index[0] #returns the time at which the step occurs\n",
    "    last_zero_df                   = dataframe[(dataframe.x_soll == 0) & (dataframe.index < time_of_step)].tail(1) #selects the df containing last zero value before the change in step \n",
    "    \n",
    "    \n",
    "    response_start_time            = pd.concat([last_zero_df, no_zero_df]).index[0] #returns the actual starting time of the dataframe\n",
    "    data_with_initial_zero         = pd.concat([last_zero_df, no_zero_df]) #returns a dataframe that starts from a 0 value so that we get an actual'step'\n",
    "    time_series_starting_from_zero = data_with_initial_zero.index-response_start_time #returns a new time series data whose time starts from zero\n",
    "    data_for_modeling              = data_with_initial_zero.set_index(time_series_starting_from_zero) #changing the index of the dataframe with the new time series\n",
    "\n",
    "    x_soll_steady_state            = no_zero_df.x_soll.head(1) #returns the steady state value along with the time index\n",
    "    multiplication_factor          = 1 / (pd.Series(x_soll_steady_state).values[0]) #calculates the factor to be multiplied with each of the data\n",
    "    input_array                    = (multiplication_factor * data_for_modeling.x_soll).tolist() #returns the 1D array  after multiplying the input with the factor in order to equalise it with 1 \n",
    "    output_array                   = (multiplication_factor * data_for_modeling.x_ist).tolist() #returns the 1D array  after multiplying the output with the factor in order to equalise it with 1\n",
    "    time_array                     = data_for_modeling.index.tolist() #extracting the time series index into a 1D array\n",
    "    return input_array, output_array, time_array\n",
    "\n",
    "\n",
    "\n",
    "#data1\n",
    "df_ist_soll_1 = df_ist_soll_1[(df_ist_soll_1.x_ist > 0)]\n",
    "xin_1, yout_1, t_1 = strip_multiply(df_ist_soll_1)\n",
    "#plt.plot(t_1,yout_1)\n",
    "#plt.plot(t_1,xin_1)\n",
    "\n",
    "\n",
    "#data2\n",
    "df_ist_soll_2 = df_ist_soll_2[(df_ist_soll_2.x_ist > 0)]\n",
    "xin_2, yout_2, t_2 = strip_multiply(df_ist_soll_2)  \n",
    "#plt.plot(t_2,yout_2)\n",
    "#plt.plot(t_2,xin_2)\n",
    "\n",
    "\n",
    "#data3-data with a special case trend\n",
    "df_ist_soll_3 = df_ist_soll_3[(df_ist_soll_3.x_ist > 0)]\n",
    "#the following code identifies the decreasing trend in x_ist values and removes those values from the dataframe\n",
    "df_ist_soll_3['trend'] = np.sign(df_ist_soll_3['x_ist'].rolling(window = 5).mean().diff().fillna(0)).map({0:'FLAT',1:'UP',-1:'DOWN'})\n",
    "reversed_array = list(df_ist_soll_3.trend.values)[::-1]\n",
    "counter = 0\n",
    "for i in range(0,len(reversed_array)):\n",
    "    if reversed_array[i] == 'DOWN':\n",
    "        counter = counter+1\n",
    "    else:\n",
    "        break\n",
    "length = len(df_ist_soll_3)\n",
    "df_ist_soll_3 = df_ist_soll_3.head(length - counter)\n",
    "xin_3, yout_3, t_3 = strip_multiply(df_ist_soll_3)  \n",
    "#plt.plot(t_3,yout_3)\n",
    "#plt.plot(t_3,xin_3)\n",
    "\n",
    "\n",
    "#data4\n",
    "df_ist_soll_4 = df_ist_soll_4[(df_ist_soll_4.x_ist > 0)]\n",
    "xin_4, yout_4, t_4 = strip_multiply(df_ist_soll_4)  \n",
    "#plt.plot(t_4,yout_4)\n",
    "#plt.plot(t_4,xin_4)\n",
    "\n",
    "\n",
    "yout = [yout_1, yout_2, yout_3, yout_4]\n",
    "t = [t_1, t_2, t_3, t_4]"
   ]
  },
  {
   "cell_type": "markdown",
   "metadata": {},
   "source": [
    "###### Section for getting the fitted model and aic values "
   ]
  },
  {
   "cell_type": "code",
   "execution_count": null,
   "metadata": {},
   "outputs": [],
   "source": [
    "%load_ext rpy2.ipython"
   ]
  },
  {
   "cell_type": "code",
   "execution_count": null,
   "metadata": {
    "collapsed": true
   },
   "outputs": [],
   "source": [
    "%%R \n",
    "require(ggplot2)\n",
    "library(stats)\n",
    "library(sysid)\n",
    "library(forecast)"
   ]
  },
  {
   "cell_type": "code",
   "execution_count": null,
   "metadata": {
    "collapsed": true
   },
   "outputs": [],
   "source": [
    "def order_ar(ar_order,yout):\n",
    "    %R -i ar_order,yout\n",
    "    %R yout = unlist(yout)                                           #added newly in R version 3.4.2\n",
    "    %R sysar = ar(yout,method=\"ols\",order.max=ar_order)\n",
    "    %R far = fitted.values(sysar)\n",
    "    %R -o far\n",
    "    far_new=np.nan_to_num(far)\n",
    "    %R sysar_new = sysar[2]\n",
    "    %R -o sysar_new\n",
    "    mse_ar = mean_squared_error(yout, far_new)\n",
    "    np_ar = len(sysar_new[0])\n",
    "    %R -i mse_ar\n",
    "    %R -i np_ar \n",
    "    %R N = length(yout) \n",
    "    %R aic_ar = N*log(mse_ar) + 2*np_ar + N*dim(matrix(yout))[2]*(log(2*pi)+1)\n",
    "    %R -o aic_ar,mse_ar\n",
    "    return aic_ar, mse_ar, far_new"
   ]
  },
  {
   "cell_type": "markdown",
   "metadata": {},
   "source": [
    "###### MSE and AIC Dataframe for orders 1 to 10"
   ]
  },
  {
   "cell_type": "code",
   "execution_count": null,
   "metadata": {},
   "outputs": [],
   "source": [
    "#The function returns a dataframe that contains the aic,mse and order values from 1 to 10 along with the fitted values for each order \n",
    "def order_aic_mse_fit(yout):\n",
    "    aic                  = []\n",
    "    order                = []\n",
    "    mse                  = []\n",
    "    fit_array            = []\n",
    "    aic_mse_fit_df       = [] \n",
    "    aic_mse_fit_df.append([])#2D array in which each element stores two floats(aic and mse) and an array(fit_array)\n",
    "   \n",
    "    for i in range(1,11):\n",
    "        order.append(i)\n",
    "        aic_mse_fit_df.append(order_ar(i,yout))\n",
    "        aic.append(list(aic_mse_fit_df[i][0]))\n",
    "        mse.append(aic_mse_fit_df[i][1])\n",
    "        fit_array.append(aic_mse_fit_df[i][2])\n",
    "    \n",
    "    df = pd.DataFrame(np.column_stack([order, aic, mse]),columns=['order', 'aic', 'mse']) #all variables are passed into the dataframe as type float by default  \n",
    "    return df, fit_array\n",
    "    \n",
    "\n",
    "df_1, fit_array_1 = order_aic_mse_fit(yout_1)\n",
    "df_2, fit_array_2 = order_aic_mse_fit(yout_2)\n",
    "df_3, fit_array_3 = order_aic_mse_fit(yout_3)\n",
    "df_4, fit_array_4 = order_aic_mse_fit(yout_4)"
   ]
  },
  {
   "cell_type": "markdown",
   "metadata": {},
   "source": [
    "###### Selecting the best order and the corresponding aic, mse and fitted values for each data based on low mse value"
   ]
  },
  {
   "cell_type": "code",
   "execution_count": null,
   "metadata": {},
   "outputs": [],
   "source": [
    "order_1, mse_ar_1, aic_ar_1 = list(df_1[df_1.mse == df_1.mse.min()].values[0]) #list function lists the df row having the least mse into a 1D array \n",
    "fitted_1 = fit_array_1[int(order_1)-1]#int function converts the order back to the integer value. Order-1 gives the corresponding index value \n",
    "\n",
    "order_2, mse_ar_2, aic_ar_2  = list(df_2[df_2.mse == df_2.mse.min()].values[0])\n",
    "fitted_2 = fit_array_2[int(order_2)-1]\n",
    "\n",
    "order_3, mse_ar_3, aic_ar_3 = list(df_3[df_3.mse == df_3.mse.min()].values[0])\n",
    "fitted_3 = fit_array_3[int(order_3)-1]\n",
    "\n",
    "order_4, mse_ar_4, aic_ar_4  = list(df_4[df_4.mse == df_4.mse.min()].values[0])\n",
    "fitted_4 = fit_array_4[int(order_4)-1]\n",
    "\n",
    "#plt.plot(t_4,yout_4,label='original')\n",
    "#plt.plot(t_4,fitted_4,label='model')\n",
    "#plt.legend()"
   ]
  },
  {
   "cell_type": "markdown",
   "metadata": {},
   "source": [
    "###### Smoothing all the model outputs"
   ]
  },
  {
   "cell_type": "code",
   "execution_count": null,
   "metadata": {
    "collapsed": true
   },
   "outputs": [],
   "source": [
    "def smooth1(model):\n",
    "    y_ar=model.ravel()\n",
    "    c = 0\n",
    "    for i in range(0,len(y_ar)):\n",
    "        if y_ar[i]<=0.01:\n",
    "            c = c + 1\n",
    "        else:\n",
    "            break\n",
    "\n",
    "    y_ar_new = y_ar[c:]\n",
    "    if len(y_ar_new)%2!=0:\n",
    "        d_ar = sig.savgol_filter(y_ar_new,round(len(y_ar_new)/2)+1,1)\n",
    "    elif len(y_ar_new)%4==0:\n",
    "        d_ar = sig.savgol_filter(y_ar_new,round(len(y_ar_new)/2)+1,1)\n",
    "    else:\n",
    "        d_ar = sig.savgol_filter(y_ar_new,round(len(y_ar_new)/2),1)\n",
    "    smoothed = np.append(y_ar[0:c],d_ar)\n",
    "    return smoothed      \n",
    "def smooth2(model):\n",
    "    y_ar=model.ravel()\n",
    "    c = 0\n",
    "    for i in range(0,len(y_ar)):\n",
    "        if y_ar[i]<=0.01:\n",
    "            c = c + 1\n",
    "        else:\n",
    "            break\n",
    "\n",
    "    y_ar_new = y_ar[c:]\n",
    "    if len(y_ar_new)%2!=0:\n",
    "        d_ar = sig.savgol_filter(y_ar_new,round(len(y_ar_new)/2)+1,2)\n",
    "    elif len(y_ar_new)%4==0:\n",
    "        d_ar = sig.savgol_filter(y_ar_new,round(len(y_ar_new)/2)+1,2)\n",
    "    else:\n",
    "        d_ar = sig.savgol_filter(y_ar_new,round(len(y_ar_new)/2),2)\n",
    "    smoothed = np.append(y_ar[0:c],d_ar)\n",
    "    return smoothed      \n",
    "smooth_11 = smooth1(fitted_1)\n",
    "smooth_21 = smooth1(fitted_2)\n",
    "smooth_31 = smooth1(fitted_3)\n",
    "smooth_41 = smooth1(fitted_4)\n",
    "smooth_12 = smooth2(fitted_1)\n",
    "smooth_22 = smooth2(fitted_2)\n",
    "smooth_32 = smooth2(fitted_3)\n",
    "smooth_42 = smooth2(fitted_4)\n",
    "#plt.plot(T_2,smooth_2,label='smoothed')\n",
    "#plt.plot(T_2,fitted_2,label='model')\n",
    "#plt.legend()"
   ]
  },
  {
   "cell_type": "markdown",
   "metadata": {},
   "source": [
    "###### PT1 and PT2 Modeling on all data "
   ]
  },
  {
   "cell_type": "code",
   "execution_count": null,
   "metadata": {},
   "outputs": [],
   "source": [
    "def pt1(smooth,T):\n",
    "    dar=pd.DataFrame(smooth,columns=['vall'])\n",
    "    tim=pd.DataFrame(T,columns=['time'])\n",
    "    dfo=pd.concat([dar,tim],axis=1)\n",
    "    youtd_frame=pd.DataFrame(smooth,columns=['value'])\n",
    "    yss=youtd_frame.tail(n=1)\n",
    "    yss = pd.Series(yss)\n",
    "    yss = pd.to_numeric(yss)\n",
    "    yss=yss[0]\n",
    "    ystd=yss*(1-np.exp(-1))\n",
    "    t10 = dfo[dfo.vall>0.01].values[0][1]                 #was 0.0 in case of modeling with R\n",
    "    a0 = 1\n",
    "    a1 = dfo.time[dfo.index == abs(dfo.vall-ystd).sort_values().index[0]].values[0]\n",
    "    b0 = yss\n",
    "    tf = con.matlab.tf(b0, [a1, a0])\n",
    "    n, d = con.pade(t10, 1)\n",
    "    delay = con.matlab.tf(n,d)\n",
    "    youto, to = con.matlab.step(tf*delay)\n",
    "    return tf,delay,youto,to\n",
    "def pt2(smooth,T):\n",
    "    dar=pd.DataFrame(smooth,columns=['vall'])\n",
    "    tim=pd.DataFrame(T,columns=['time'])\n",
    "    dfo=pd.concat([dar,tim],axis=1)\n",
    "    youtd_frame=pd.DataFrame(smooth,columns=['value'])\n",
    "    yss=youtd_frame.tail(n=1)\n",
    "    yss = pd.Series(yss)\n",
    "    yss = pd.to_numeric(yss)\n",
    "    yss=yss[0]\n",
    "    td_frame=pd.DataFrame(T,columns=['time'])\n",
    "    df = pd.concat([td_frame,youtd_frame],axis=1)\n",
    "    yss1=yss*0.1\n",
    "    yss3=yss*0.3\n",
    "    yss6=yss*0.6\n",
    "    yss9=yss*0.9\n",
    "    #t1 = np.mean([df.time[df.index==abs(df.value-yss1).sort_values().value_counts().max()-1].values[0],df.time[df.index==abs(df.value-yss1).sort_values().value_counts().max()].values[0]])\n",
    "    t1 = df.time[df.index == abs(df.value-yss1).sort_values().index[0]].values[0]\n",
    "    t3 = df.time[df.index == abs(df.value-yss3).sort_values().index[0]].values[0]\n",
    "    t6 = df.time[df.index == abs(df.value-yss6).sort_values().index[0]].values[0]\n",
    "    t9 = df.time[df.index == abs(df.value-yss9).sort_values().index[0]].values[0]\n",
    "    def fourpoint(z):\n",
    "        f1_zeta = 0.451465 + 0.066696*z + 0.013639*z**2\n",
    "        f3_zeta = 0.800879 + 0.194550*z + 0.101784*z**2\n",
    "        f6_zeta = 1.202664 + 0.288331*z + 0.530572*z**2\n",
    "        f9_zeta = 1.941112 - 1.237235*z + 3.182373*z**2\n",
    "        return f1_zeta,f3_zeta,f6_zeta,f9_zeta\n",
    "    beta = (t9 - t6)/(t3 - t1)\n",
    "    zeta_est_beta = -0.460805 + 0.976315*beta - 0.254517*beta**2 + 0.028115*beta**3\n",
    "    f1_zeta,f3_zeta,f6_zeta,f9_zeta = fourpoint(zeta_est_beta)\n",
    "    peak1=youtd_frame.max()\n",
    "    peak1 = peak1[0]\n",
    "    overshoot = (peak1 - yss)/yss\n",
    "    zeta_est_overshoot = numpy.sqrt(numpy.log(overshoot)**2 / (numpy.pi**2 + numpy.log(overshoot)**2))\n",
    "    f1_zeta,f3_zeta,f6_zeta,f9_zeta = fourpoint(zeta_est_overshoot)\n",
    "    def method2(z):\n",
    "        T_est2 = (t9 - t1) / (f9_zeta - f1_zeta) \n",
    "        #theta_est2 = t1 - T_est2*f1_zeta              #based on research paper\n",
    "        theta_est2 = T_est2*f1_zeta\n",
    "        return T_est2,theta_est2\n",
    "    T_est2,theta_est2 = method2(zeta_est_overshoot)     \n",
    "    tf2 = con.matlab.tf(yss, [T_est2**2,2*zeta_est_overshoot*T_est2, 1])\n",
    "    #n_2, d_2 = con.pade(theta_est2, 1)\n",
    "    n_2, d_2 = con.pade(t1, 1)      # based on http://cse.lab.imtlucca.it/~bemporad/teaching/ac/pdf/AC2-08-System_Identification.pdf\n",
    "    delay2 = con.matlab.tf(n_2,d_2)\n",
    "    youto2,to2 = con.matlab.step(tf2*delay2)\n",
    "    return tf2,delay2,youto2,to2\n",
    "\n",
    "tf_11,delay_11,youto_11,to_11 = pt1(smooth_11,t_1)\n",
    "tf_21,delay_21,youto_21,to_21 = pt1(smooth_21,t_2)\n",
    "tf_31,delay_31,youto_31,to_31 = pt1(smooth_31,t_3)\n",
    "tf_41,delay_41,youto_41,to_41 = pt1(smooth_41,t_4)\n",
    "tf_12,delay_12,youto_12,to_12 = pt2(smooth_12,t_1)\n",
    "tf_22,delay_22,youto_22,to_22 = pt2(smooth_22,t_2)\n",
    "tf_32,delay_32,youto_32,to_32 = pt2(smooth_32,t_3)\n",
    "tf_42,delay_42,youto_42,to_42 = pt2(smooth_42,t_4)\n",
    "youto1 = [youto_11,youto_21,youto_31,youto_41]\n",
    "to1 = [to_11,to_21,to_31,to_41]\n",
    "youto2 = [youto_12,youto_22,youto_32,youto_42]\n",
    "to2 = [to_12,to_22,to_32,to_42]\n",
    "#plt.plot(to_2,youto_2)\n",
    "#plt.plot(T_2,yout_2)"
   ]
  },
  {
   "cell_type": "markdown",
   "metadata": {},
   "source": [
    "###### State space representation "
   ]
  },
  {
   "cell_type": "code",
   "execution_count": null,
   "metadata": {
    "collapsed": true
   },
   "outputs": [],
   "source": [
    "def ss(TF):\n",
    "    sys = con.matlab.tf2ss(TF)\n",
    "    return sys\n",
    "sys_11 = ss(tf_11*delay_11)\n",
    "sys_21 = ss(tf_21*delay_21)\n",
    "sys_31 = ss(tf_31*delay_31)\n",
    "sys_41 = ss(tf_41*delay_41)\n",
    "sys_12 = ss(tf_12*delay_12)\n",
    "sys_22 = ss(tf_22*delay_22)\n",
    "sys_32 = ss(tf_32*delay_32)\n",
    "sys_42 = ss(tf_42*delay_42)\n",
    "SYS1 = [sys_11,sys_21,sys_31,sys_41]\n",
    "SYS2 = [sys_12,sys_22,sys_32,sys_42]"
   ]
  },
  {
   "cell_type": "markdown",
   "metadata": {},
   "source": [
    "###### Mean square comparison of each data and its model"
   ]
  },
  {
   "cell_type": "code",
   "execution_count": null,
   "metadata": {
    "collapsed": true
   },
   "outputs": [],
   "source": [
    "def mse(df_ist_soll,yout,youtx,tx):\n",
    "    Y = pd.concat([pd.DataFrame(list(df_ist_soll.index.values),columns=['time']),pd.DataFrame(yout,columns=['y_1'])],axis=1)\n",
    "    X = pd.concat([pd.DataFrame(youtx,columns=['y_12']),pd.DataFrame(tx,columns=['time'])],axis=1)\n",
    "    X1 = list(pd.Series(X.time))\n",
    "    Y1 = list(pd.Series(Y.time))\n",
    "\n",
    "    arr = []\n",
    "    for i in range(0,len(X1)):\n",
    "        arr.append([])\n",
    "        for j in range(0,len(Y1)):\n",
    "            if round(abs(X1[i]))==round(abs(Y1[j])) or (round(X1[i]) == round(Y1[j]+0.5)) or (round(X1[i]+0.5) == round(Y1[j])):\n",
    "                arr[i].append(Y1[j])\n",
    "\n",
    "    delayed = []\n",
    "    for i in range(0,len(X1)):\n",
    "        delayed.append(min(abs(X1[i]-arr[i])))\n",
    "    yarr1=[]\n",
    "    for i in range(0,len(X1)):\n",
    "        for j in range(0,len(Y1)):\n",
    "            if abs(X1[i]-Y1[j])==delayed[i]:\n",
    "                yarr1.append(Y1[j])\n",
    "            \n",
    "    yarr2 = []\n",
    "    for i in range(0,len(X1)):\n",
    "        yarr2.append(list(Y.y_1[Y.time==yarr1[i]])[0])\n",
    "    yarr2 = np.nan_to_num(yarr2)\n",
    "    \n",
    "    mse = mean_squared_error(yarr2,youtx)\n",
    "    return mse\n",
    "\n",
    "mse_11 = mse(df_ist_soll_1,yout_1,youto_11,to_11)\n",
    "mse_21 = mse(df_ist_soll_2,yout_2,youto_21,to_21)\n",
    "mse_31 = mse(df_ist_soll_3,yout_3,youto_31,to_31)\n",
    "mse_41 = mse(df_ist_soll_4,yout_4,youto_41,to_41)\n",
    "mse_12 = mse(df_ist_soll_1,yout_1,youto_12,to_12)\n",
    "mse_22 = mse(df_ist_soll_2,yout_2,youto_22,to_22)\n",
    "mse_32 = mse(df_ist_soll_3,yout_3,youto_32,to_32)\n",
    "mse_42 = mse(df_ist_soll_4,yout_4,youto_42,to_42)\n",
    "MSE1 = [mse_11,mse_21,mse_31,mse_41]\n",
    "MSE2 = [mse_12,mse_22,mse_32,mse_42]"
   ]
  },
  {
   "cell_type": "markdown",
   "metadata": {},
   "source": [
    "###### PT1 and PT2 Model response of all the dataset"
   ]
  },
  {
   "cell_type": "code",
   "execution_count": null,
   "metadata": {
    "scrolled": false
   },
   "outputs": [],
   "source": [
    "from __future__ import print_function\n",
    "from ipywidgets import interact, interactive, fixed, interact_manual\n",
    "import ipywidgets as widgets\n",
    "def f1(x):\n",
    "    plt.plot(to1[x-1],youto1[x-1],label='pt1 model')\n",
    "    plt.plot(t[x-1],yout[x-1],label='data')\n",
    "    plt.legend()\n",
    "    print('Mean square error is:')\n",
    "    print(MSE1[x-1])\n",
    "    return SYS1[x-1]\n",
    "def f2(x):\n",
    "    plt.plot(to2[x-1],youto2[x-1],label='pt2 model')\n",
    "    plt.plot(t[x-1],yout[x-1],label='data')\n",
    "    plt.legend()\n",
    "    print('Mean square error is:')\n",
    "    print(MSE2[x-1])\n",
    "    return SYS2[x-1]\n",
    "#interact(f1,x =widgets.IntSlider(min=1,max=4,step=1));\n",
    "#interact(f2,x =widgets.IntSlider(min=1,max=4,step=1));\n",
    "def sel(m):\n",
    "    if m == 'pt1':\n",
    "        #interact(f1,x =widgets.IntSlider(min=1,max=4,step=1));\n",
    "        interact(f1,x = widgets.RadioButtons(options=[1, 2, 3, 4],value=1,description='Data:',disabled=False));\n",
    "    else:\n",
    "        #interact(f2,x =widgets.IntSlider(min=1,max=4,step=1));\n",
    "        interact(f2,x = widgets.RadioButtons(options=[1, 2, 3, 4],value=1,description='Data:',disabled=False));\n",
    "interact(sel,m = widgets.RadioButtons(options=['pt1', 'pt2'],value='pt1',description='System:',disabled=False));"
   ]
  },
  {
   "cell_type": "markdown",
   "metadata": {},
   "source": [
    "###### Selecting the best model parameters among the dataset "
   ]
  },
  {
   "cell_type": "code",
   "execution_count": null,
   "metadata": {
    "scrolled": false
   },
   "outputs": [],
   "source": [
    "for i in range(0,len(MSE1)):\n",
    "    for j in range(0,len(MSE2)):\n",
    "        if(MSE1[i] == min(MSE1)):\n",
    "            i1 = i\n",
    "        if(MSE2[j] == min(MSE2)):\n",
    "            j1 = j\n",
    "if MSE2[j1] < MSE1[i1]:\n",
    "    plt.plot(to2[j1],youto2[j1],label='pt2 model')\n",
    "    plt.plot(t[j1],yout[j1],label='data')\n",
    "    plt.legend()\n",
    "    print('The best model is a pt2 system and is obtained from dataset:',j1+1)\n",
    "    print('Mean square error is:',MSE2[j1])\n",
    "    print('The state space parameters are:')\n",
    "    print(SYS2[j1])\n",
    "else:\n",
    "    plt.plot(to1[i1],youto1[i1],label='pt2 model')\n",
    "    plt.plot(t[i1],yout[i1],label='data')\n",
    "    plt.legend()\n",
    "    print('The best model is a pt1 system and is obtained from dataset:',i1+1)\n",
    "    print('Mean square error is:',MSE1[i1])\n",
    "    print('The state space parameters are:')\n",
    "    print(SYS1[i1])"
   ]
  },
  {
   "cell_type": "code",
   "execution_count": null,
   "metadata": {},
   "outputs": [],
   "source": [
    "print(time.localtime())"
   ]
  }
 ],
 "metadata": {
  "kernelspec": {
   "display_name": "Python 3",
   "language": "python",
   "name": "python3"
  },
  "language_info": {
   "codemirror_mode": {
    "name": "ipython",
    "version": 3
   },
   "file_extension": ".py",
   "mimetype": "text/x-python",
   "name": "python",
   "nbconvert_exporter": "python",
   "pygments_lexer": "ipython3",
   "version": "3.6.3"
  }
 },
 "nbformat": 4,
 "nbformat_minor": 2
}
