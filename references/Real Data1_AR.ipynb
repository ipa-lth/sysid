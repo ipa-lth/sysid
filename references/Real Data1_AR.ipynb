{
 "cells": [
  {
   "cell_type": "code",
   "execution_count": 123,
   "metadata": {
    "collapsed": true
   },
   "outputs": [],
   "source": [
    "import warnings\n",
    "warnings.filterwarnings('ignore')"
   ]
  },
  {
   "cell_type": "code",
   "execution_count": 124,
   "metadata": {},
   "outputs": [
    {
     "name": "stdout",
     "output_type": "stream",
     "text": [
      "Populating the interactive namespace from numpy and matplotlib\n"
     ]
    }
   ],
   "source": [
    "import pandas as pd\n",
    "import numpy as np\n",
    "import matplotlib.pyplot as plt\n",
    "from sklearn.metrics import mean_squared_error\n",
    "import scipy.signal as sig\n",
    "import control as con\n",
    "%pylab inline\n",
    "from statsmodels.tsa.arima_model import ARIMA\n"
   ]
  },
  {
   "cell_type": "code",
   "execution_count": 125,
   "metadata": {},
   "outputs": [
    {
     "data": {
      "image/png": "[encoded data removed]",
      "text/plain": [
       "<matplotlib.figure.Figure at 0x7f8321f33208>"
      ]
     },
     "metadata": {},
     "output_type": "display_data"
    }
   ],
   "source": [
    "df_soll = pd.read_csv('step_log/2017-11-03_ext_topic_logger/2017-11-03_14-25-18_control_output.log',\n",
    "                 header=0,\n",
    "                 names=['time', 'x_soll'])\n",
    "df_soll = df_soll.set_index('time')\n",
    "df_ist = pd.read_csv('step_log/2017-11-03_ext_topic_logger/2017-11-03_14-25-19_task_vel.log',\n",
    "                 header=0,\n",
    "                 names=['time', 'x_ist'])\n",
    "df_ist = df_ist.set_index('time')\n",
    "df_ist_soll = pd.concat([df_soll.x_soll, df_ist.x_ist], axis=1).fillna(method='pad')\n",
    "df_ist_soll = df_ist_soll.fillna(0)\n",
    "df_ist_soll.plot(style='-', drawstyle=\"steps\")\n",
    "plt.savefig('real_data_1.png')"
   ]
  },
  {
   "cell_type": "code",
   "execution_count": 126,
   "metadata": {
    "collapsed": true
   },
   "outputs": [],
   "source": [
    "df_ist_soll = df_ist_soll[df_ist_soll.x_ist > 0]"
   ]
  },
  {
   "cell_type": "code",
   "execution_count": 127,
   "metadata": {
    "collapsed": true
   },
   "outputs": [],
   "source": [
    "T = df_ist_soll.index.tolist()\n",
    "yout = (5*df_ist_soll['x_ist']).tolist()\n",
    "xin = (5*df_ist_soll['x_soll']).tolist()"
   ]
  },
  {
   "cell_type": "code",
   "execution_count": 128,
   "metadata": {
    "collapsed": true
   },
   "outputs": [],
   "source": [
    "c=-1\n",
    "for i in range(0,len(xin)):\n",
    "    if xin[i] == 0.0:\n",
    "        c = c+1\n",
    "    else:\n",
    "        break"
   ]
  },
  {
   "cell_type": "code",
   "execution_count": 129,
   "metadata": {
    "collapsed": true
   },
   "outputs": [],
   "source": [
    "xin_old = xin\n",
    "yout_old = yout\n",
    "T_old = T"
   ]
  },
  {
   "cell_type": "code",
   "execution_count": 130,
   "metadata": {
    "collapsed": true
   },
   "outputs": [],
   "source": [
    "xin = xin[c:]\n",
    "yout = yout[c:]\n",
    "T = T[c:]\n",
    "T=T-T[0]"
   ]
  },
  {
   "cell_type": "code",
   "execution_count": 76,
   "metadata": {},
   "outputs": [
    {
     "name": "stdout",
     "output_type": "stream",
     "text": [
      "The rpy2.ipython extension is already loaded. To reload it, use:\n",
      "  %reload_ext rpy2.ipython\n"
     ]
    }
   ],
   "source": [
    "%load_ext rpy2.ipython"
   ]
  },
  {
   "cell_type": "code",
   "execution_count": 77,
   "metadata": {
    "collapsed": true
   },
   "outputs": [],
   "source": [
    "%R -i xin\n",
    "%R -i yout\n",
    "%R -i T"
   ]
  },
  {
   "cell_type": "code",
   "execution_count": 78,
   "metadata": {
    "collapsed": true
   },
   "outputs": [],
   "source": [
    "#%R install.packages(\"forecast\",repos=\"https://ftp.gwdg.de/pub/misc/cran/\",lib=\"/home/ipa325/R/x86_64-pc-linux-gnu-library/3.4/\")"
   ]
  },
  {
   "cell_type": "code",
   "execution_count": 79,
   "metadata": {},
   "outputs": [
    {
     "data": {
      "text/plain": [
       "array(['forecast', 'sysid', 'ggplot2', 'tools', 'stats', 'graphics',\n",
       "       'grDevices', 'utils', 'datasets', 'methods', 'base'],\n",
       "      dtype='<U9')"
      ]
     },
     "execution_count": 79,
     "metadata": {},
     "output_type": "execute_result"
    }
   ],
   "source": [
    "%R require(ggplot2)\n",
    "%R library(stats)\n",
    "%R library(sysid,lib.loc=\"/home/ipa325/R/x86_64-pc-linux-gnu-library/3.4/\")\n",
    "%R library(forecast,lib.loc=\"/home/ipa325/R/x86_64-pc-linux-gnu-library/3.4/\")"
   ]
  },
  {
   "cell_type": "code",
   "execution_count": 107,
   "metadata": {},
   "outputs": [
    {
     "data": {
      "text/plain": [
       "$ar\n",
       ", , 1\n",
       "\n",
       "             [,1]\n",
       " [1,]  0.58153966\n",
       " [2,] -0.27282690\n",
       " [3,]  0.17362020\n",
       " [4,] -0.06793235\n",
       " [5,]  0.08254997\n",
       " [6,]  0.02299239\n",
       " [7,]  0.13426351\n",
       " [8,]  0.04759521\n",
       " [9,] -0.03897547\n",
       "[10,]  0.05060026\n",
       "[11,] -0.02752622\n",
       "\n",
       "\n"
      ]
     },
     "metadata": {},
     "output_type": "display_data"
    }
   ],
   "source": [
    "%R yout<-unlist(yout)                                           #added newly in R version 3.4.2\n",
    "%R sysar = ar(yout,method=\"ols\",order.max=15)\n",
    "%R far =fitted.values(sysar)\n",
    "%R -o far\n",
    "far_new=np.nan_to_num(far)\n",
    "%R sysar_new = sysar[2]\n",
    "%R print(sysar_new)\n"
   ]
  },
  {
   "cell_type": "code",
   "execution_count": 80,
   "metadata": {
    "collapsed": true
   },
   "outputs": [],
   "source": [
    "def order_ar(ar_order):\n",
    "    %R -i ar_order\n",
    "    %R yout<-unlist(yout)                                           #added newly in R version 3.4.2\n",
    "    %R sysar = ar(yout,method=\"ols\",order.max=ar_order)\n",
    "    %R far =fitted.values(sysar)\n",
    "    %R -o far\n",
    "    far_new=np.nan_to_num(far)\n",
    "    %R sysar_new = sysar[2]\n",
    "    %R -o sysar_new\n",
    "    mse_ar = mean_squared_error(yout, far_new)\n",
    "    np_ar = len(sysar_new[0])\n",
    "    %R -i mse_ar\n",
    "    %R -i np_ar \n",
    "    %R N <- length(yout) \n",
    "    %R aic_ar <- N*log(mse_ar) + 2*np_ar + N*dim(matrix(yout))[2]*(log(2*pi)+1)\n",
    "    %R -o aic_ar,mse_ar\n",
    "    return aic_ar,mse_ar,far_new"
   ]
  },
  {
   "cell_type": "code",
   "execution_count": 131,
   "metadata": {
    "collapsed": true
   },
   "outputs": [],
   "source": [
    "def order_ar(ar_order):\n",
    "    sysar = ARIMA(yout, order=(ar_order, 0, 0))\n",
    "    far = sysar.fit().fittedvalues\n",
    "    far[0] = 0\n",
    "    far_new = far\n",
    "    mse_ar = mean_squared_error(yout, far_new)\n",
    "    np_ar = len(sysar.fit().params)\n",
    "    N = len(yout) \n",
    "    aic_ar = N*np.log(mse_ar) + 2*np_ar + N*1*(np.log(2*np.pi)+1)\n",
    "    return aic_ar,mse_ar,far_new"
   ]
  },
  {
   "cell_type": "code",
   "execution_count": 133,
   "metadata": {},
   "outputs": [],
   "source": [
    "aic = []\n",
    "L = []\n",
    "mse = []\n",
    "for l in range(1,10):\n",
    "  aic.append(order_ar(l)[0])\n",
    "  mse.append(order_ar(l)[1])\n",
    "  L.append(l)\n",
    "df = pd.DataFrame(np.column_stack([np.array(L),np.array(aic),np.array(mse)]),columns=['l','aic','mse']) "
   ]
  },
  {
   "cell_type": "code",
   "execution_count": 134,
   "metadata": {
    "collapsed": true
   },
   "outputs": [],
   "source": [
    "w = np.array(df.l[df.mse==df.mse.min()].astype(int))[0]\n",
    "mse_ar = np.array(df.mse[df.mse==df.mse.min()])[0]\n",
    "aic_ar = np.array(df.aic[df.mse==df.mse.min()])[0]\n",
    "far_new = order_ar(w)[2]"
   ]
  },
  {
   "cell_type": "code",
   "execution_count": 83,
   "metadata": {
    "collapsed": true
   },
   "outputs": [],
   "source": [
    "from statsmodels.tsa.arima_model import ARIMA"
   ]
  },
  {
   "cell_type": "code",
   "execution_count": 112,
   "metadata": {},
   "outputs": [
    {
     "data": {
      "text/plain": [
       "[<matplotlib.lines.Line2D at 0x7f8321f6aeb8>]"
      ]
     },
     "execution_count": 112,
     "metadata": {},
     "output_type": "execute_result"
    },
    {
     "data": {
      "image/png": "[encoded data removed]",
      "text/plain": [
       "<matplotlib.figure.Figure at 0x7f8322052550>"
      ]
     },
     "metadata": {},
     "output_type": "display_data"
    }
   ],
   "source": [
    "model = ARIMA(yout, order=(15, 0, 0))  \n",
    "plt.plot(model.fit().fittedvalues)"
   ]
  },
  {
   "cell_type": "code",
   "execution_count": 113,
   "metadata": {},
   "outputs": [
    {
     "data": {
      "text/plain": [
       "array([ 0.77854541,  0.8457008 , -0.20223408,  0.29548738, -0.03818022,\n",
       "        0.1200849 ,  0.03293983,  0.13096551,  0.0157238 , -0.09894969,\n",
       "        0.03286677, -0.10505696,  0.04681424,  0.01092658, -0.10610518,\n",
       "        0.00163179])"
      ]
     },
     "execution_count": 113,
     "metadata": {},
     "output_type": "execute_result"
    }
   ],
   "source": [
    "model.fit().params"
   ]
  },
  {
   "cell_type": "code",
   "execution_count": 122,
   "metadata": {},
   "outputs": [
    {
     "data": {
      "text/plain": [
       "array([1], dtype=int32)"
      ]
     },
     "execution_count": 122,
     "metadata": {},
     "output_type": "execute_result"
    }
   ],
   "source": [
    "%R dim(matrix(yout))[2]"
   ]
  },
  {
   "cell_type": "code",
   "execution_count": 121,
   "metadata": {},
   "outputs": [
    {
     "data": {
      "text/plain": [
       "199"
      ]
     },
     "execution_count": 121,
     "metadata": {},
     "output_type": "execute_result"
    }
   ],
   "source": [
    "len(yout)"
   ]
  },
  {
   "cell_type": "code",
   "execution_count": 101,
   "metadata": {
    "scrolled": true
   },
   "outputs": [
    {
     "data": {
      "text/plain": [
       "[<matplotlib.lines.Line2D at 0x7f83220c2550>]"
      ]
     },
     "execution_count": 101,
     "metadata": {},
     "output_type": "execute_result"
    },
    {
     "data": {
      "image/png": "[encoded data removed]",
      "text/plain": [
       "<matplotlib.figure.Figure at 0x7f83220aac50>"
      ]
     },
     "metadata": {},
     "output_type": "display_data"
    }
   ],
   "source": [
    "%R sis=ar(yout,method=\"ols\",order.max=15)\n",
    "%R fs =fitted.values(sis)\n",
    "%R -o fs\n",
    "#plt.plot(T,fs)\n",
    "newfit=model.fit().fittedvalues\n",
    "newfit[0]=0\n",
    "plt.plot(T,newfit)\n",
    "plt.plot(T,yout)"
   ]
  },
  {
   "cell_type": "code",
   "execution_count": 95,
   "metadata": {},
   "outputs": [
    {
     "data": {
      "text/plain": [
       "(199, 199)"
      ]
     },
     "execution_count": 95,
     "metadata": {},
     "output_type": "execute_result"
    }
   ],
   "source": [
    "len(model.fit().fittedvalues),len(fs)"
   ]
  },
  {
   "cell_type": "code",
   "execution_count": 16,
   "metadata": {
    "scrolled": true
   },
   "outputs": [
    {
     "data": {
      "text/plain": [
       "\n",
       "Call:\n",
       "ar(x = yout, order.max = w, method = \"ols\")\n",
       "\n",
       "Coefficients:\n",
       "      1        2        3        4        5        6        7        8  \n",
       " 0.6331  -0.2556   0.2197  -0.0696   0.1065   0.0055   0.1446  -0.0143  \n",
       "\n",
       "Intercept: 0.01851 (0.004488) \n",
       "\n",
       "Order selected 8  sigma^2 estimated as  0.003135\n"
      ]
     },
     "metadata": {},
     "output_type": "display_data"
    }
   ],
   "source": [
    "%R -i w\n",
    "%R sysar = ar(yout,method=\"ols\",order.max=w)\n",
    "%R print(sysar)"
   ]
  },
  {
   "cell_type": "code",
   "execution_count": 136,
   "metadata": {},
   "outputs": [
    {
     "data": {
      "text/plain": [
       "<matplotlib.legend.Legend at 0x7f8321e5ff60>"
      ]
     },
     "execution_count": 136,
     "metadata": {},
     "output_type": "execute_result"
    },
    {
     "data": {
      "image/png": "[encoded data removed]",
      "text/plain": [
       "<matplotlib.figure.Figure at 0x7f8321f22898>"
      ]
     },
     "metadata": {},
     "output_type": "display_data"
    }
   ],
   "source": [
    "plt.plot(T,yout,label='original')\n",
    "plt.plot(T,far_new,label='model')\n",
    "plt.legend()"
   ]
  },
  {
   "cell_type": "code",
   "execution_count": 138,
   "metadata": {},
   "outputs": [
    {
     "data": {
      "text/plain": [
       "array([ 0.        ,  0.00939533,  0.01776692,  0.013268  ,  0.04364241,\n",
       "        0.03127141,  0.04246801,  0.09971143,  0.09232987,  0.19989853,\n",
       "        0.27443184,  0.29105412,  0.40001766,  0.57955076,  0.58219882,\n",
       "        0.57078078,  0.64943594,  0.62274767,  0.80273916,  0.79894052,\n",
       "        0.86187832,  0.81569454,  0.75624191,  0.7922222 ,  0.80368018,\n",
       "        0.80200051,  0.91783947,  0.88805002,  0.92540671,  0.93077307,\n",
       "        0.96973043,  0.98101539,  0.99546656,  1.00028948,  0.86296871,\n",
       "        0.88861946,  0.98686053,  0.98047328,  1.00889354,  1.00646773,\n",
       "        0.89489161,  0.93958868,  0.93205545,  1.07294541,  1.00308597,\n",
       "        0.92546415,  0.94198694,  0.91989876,  1.07793054,  1.04010715,\n",
       "        1.08240708,  1.03191886,  1.05467557,  0.95271368,  0.99164877,\n",
       "        1.07203681,  1.022838  ,  1.05129279,  1.0347475 ,  0.92012318,\n",
       "        0.95778967,  1.07926201,  1.05779675,  0.94074935,  1.08750135,\n",
       "        1.02257787,  0.95603769,  0.99427548,  0.96364032,  0.94388026,\n",
       "        1.0658209 ,  1.05981092,  1.06558856,  0.93931801,  1.01921349,\n",
       "        0.97587454,  1.00936875,  0.98964116,  0.97008023,  1.07672664,\n",
       "        1.05587361,  0.993205  ,  1.01200888,  0.99159079,  1.00109438,\n",
       "        0.99748063,  0.99803917,  1.08491523,  1.06279705,  0.9985952 ,\n",
       "        1.02026217,  1.11388172,  1.09577368,  1.00508115,  1.02142176,\n",
       "        1.07835893,  0.93597572,  1.02950986,  0.97344316,  0.96772361,\n",
       "        0.96087131,  0.99675988,  0.9864915 ,  0.96753798,  0.9952997 ,\n",
       "        0.99416746,  0.99860915,  0.99706459,  0.99709776,  1.00384741,\n",
       "        1.00221178,  1.00721563,  1.00733201,  1.00978681,  1.11125603,\n",
       "        1.09459898,  1.1289125 ,  0.99453943,  1.1597504 ,  1.08959049,\n",
       "        1.02198301,  1.02274401,  0.98237309,  0.97429545,  0.98031591,\n",
       "        0.99799589,  0.96411739,  0.96659761,  0.99102934,  1.11303201,\n",
       "        0.94623272,  1.01859457,  0.96754221,  0.99167904,  0.97894928,\n",
       "        0.99036336,  0.97856907,  0.95713615,  0.87220622,  0.89577413,\n",
       "        0.75890359,  0.78644107,  0.88413732,  0.86882162,  0.8898601 ,\n",
       "        0.8872372 ,  0.92911082,  0.93147294,  0.97878819,  0.97446176,\n",
       "        0.95981375,  0.95571323,  0.85254634,  1.01390981,  0.94856917,\n",
       "        1.00214732,  0.98093671,  1.0002204 ,  0.98979831,  1.0130791 ,\n",
       "        1.02992741,  1.00697038,  1.00844432,  1.00892512,  1.00936442,\n",
       "        1.00991712,  1.01112626,  1.01026303,  1.01069779,  1.01389271,\n",
       "        1.01310411,  1.01417036,  1.01383227,  1.01586766,  1.01520372,\n",
       "        1.01767901,  1.01712806,  1.0178494 ,  1.01762394,  1.0176689 ,\n",
       "        1.01712956,  1.01732773,  1.01703881,  1.01609861,  1.01613924,\n",
       "        1.017919  ,  1.01653953,  1.01752376,  1.01730749,  1.01962429,\n",
       "        1.01911496,  0.904763  ,  0.92948614,  1.02053296,  0.99687558,\n",
       "        1.02668653,  1.01450336,  1.01768622,  1.01831734])"
      ]
     },
     "execution_count": 138,
     "metadata": {},
     "output_type": "execute_result"
    }
   ],
   "source": [
    "far_new"
   ]
  },
  {
   "cell_type": "code",
   "execution_count": 147,
   "metadata": {
    "scrolled": true
   },
   "outputs": [
    {
     "data": {
      "text/plain": [
       "<matplotlib.legend.Legend at 0x7f8321b41550>"
      ]
     },
     "execution_count": 147,
     "metadata": {},
     "output_type": "execute_result"
    },
    {
     "data": {
      "image/png": "[encoded data removed]",
      "text/plain": [
       "<matplotlib.figure.Figure at 0x7f8321d18a90>"
      ]
     },
     "metadata": {},
     "output_type": "display_data"
    }
   ],
   "source": [
    "y_ar=far_new.ravel()\n",
    "y_ar=far_new.ravel()\n",
    "cou = 0\n",
    "for i in range(0,len(y_ar)):\n",
    "    if y_ar[i]<=0.01:\n",
    "        cou=cou+1\n",
    "    else:\n",
    "        break\n",
    "\n",
    "y_ar_new = y_ar[cou:]\n",
    "if len(y_ar_new)%2!=0:\n",
    "    d_ar = sig.savgol_filter(y_ar_new,round(len(y_ar_new)/2)+1,2)\n",
    "else:\n",
    "    d_ar = sig.savgol_filter(y_ar_new,round(len(y_ar_new)/2),2)\n",
    "d_ar_new=np.append(y_ar[0:cou],d_ar)\n",
    "plt.plot(T,d_ar_new,label='smoothed')\n",
    "plt.plot(T,far_new,label='model')\n",
    "plt.legend()"
   ]
  },
  {
   "cell_type": "code",
   "execution_count": 146,
   "metadata": {},
   "outputs": [
    {
     "data": {
      "text/plain": [
       "[<matplotlib.lines.Line2D at 0x7f8379cb10f0>]"
      ]
     },
     "execution_count": 146,
     "metadata": {},
     "output_type": "execute_result"
    },
    {
     "data": {
      "image/png": "[encoded data removed]",
      "text/plain": [
       "<matplotlib.figure.Figure at 0x7f832c0c8198>"
      ]
     },
     "metadata": {},
     "output_type": "display_data"
    }
   ],
   "source": [
    "dar=pd.DataFrame(d_ar_new,columns=['vall'])\n",
    "tim=pd.DataFrame(T,columns=['time'])\n",
    "dfo=pd.concat([dar,tim],axis=1)\n",
    "youtdz=d_ar_new\n",
    "youtd_frame=pd.DataFrame(youtdz,columns=['value'])\n",
    "yss=youtd_frame.tail(n=1)\n",
    "yss = pd.Series(yss)\n",
    "yss = pd.to_numeric(yss)\n",
    "yss=yss[0]\n",
    "ystd=yss*(1-np.exp(-1))\n",
    "yss9=yss*0.9\n",
    "t90=dfo.time[dfo.index == abs(dfo.vall-yss9).sort_values().index[0]].values[0]\n",
    "t10 = dfo[dfo.vall>0].values[0][1]\n",
    "a0 = 1\n",
    "a1 = dfo.time[dfo.index == abs(dfo.vall-ystd).sort_values().index[0]].values[0]\n",
    "b0 = yss\n",
    "tf_1 = con.matlab.tf(b0, [a1, a0])\n",
    "n_1, d_1 = con.pade(t10, 1)\n",
    "dela = con.matlab.tf(n_1,d_1)\n",
    "youto, to = con.matlab.step(tf_1*dela) #,np.linspace(0,max(T))\n",
    "\n",
    "plt.plot(to,youto)\n",
    "#plt.plot(T,d_ar_new,label='smoothed')\n",
    "plt.plot(T,yout,label='model')\n",
    "#plt.savefig('11.png')"
   ]
  },
  {
   "cell_type": "code",
   "execution_count": 20,
   "metadata": {},
   "outputs": [
    {
     "data": {
      "text/plain": [
       "A = [[ -32.68130319 -201.07791994]\n",
       " [   1.            0.        ]]\n",
       "\n",
       "B = [[ 1.]\n",
       " [ 0.]]\n",
       "\n",
       "C = [[  -8.48140456  207.46307108]]\n",
       "\n",
       "D = [[ 0.]]"
      ]
     },
     "execution_count": 20,
     "metadata": {},
     "output_type": "execute_result"
    }
   ],
   "source": [
    "con.matlab.tf2ss(tf_1*dela)"
   ]
  },
  {
   "cell_type": "code",
   "execution_count": 183,
   "metadata": {},
   "outputs": [
    {
     "data": {
      "text/plain": [
       "array([ 0.        ,  0.00939533,  0.1662975 ,  0.19500476,  0.22326637,\n",
       "        0.25108232,  0.27845262,  0.30537727,  0.33185626,  0.3578896 ,\n",
       "        0.38347729,  0.40861932,  0.4333157 ,  0.45756642,  0.48137149,\n",
       "        0.50473091,  0.52764467,  0.55011278,  0.57213524,  0.59371204,\n",
       "        0.61484319,  0.63552868,  0.65576852,  0.67556271,  0.69491125,\n",
       "        0.71381413,  0.73227135,  0.75028293,  0.76784884,  0.78496911,\n",
       "        0.80164372,  0.81787268,  0.83365598,  0.84899363,  0.86388563,\n",
       "        0.87833197,  0.89233266,  0.9058877 ,  0.91899708,  0.93166081,\n",
       "        0.94387888,  0.9556513 ,  0.96697807,  0.97785918,  0.98829464,\n",
       "        0.99828445,  1.0078286 ,  1.0169271 ,  1.02557994,  1.03378713,\n",
       "        1.04154867,  1.04886456,  1.05120364,  1.05248742,  1.05334387,\n",
       "        1.05240809,  1.05046543,  1.04815524,  1.04460073,  1.04156898,\n",
       "        1.038577  ,  1.03492479,  1.03198889,  1.03111977,  1.02972734,\n",
       "        1.02615613,  1.02366359,  1.01991843,  1.02063893,  1.01864632,\n",
       "        1.01862953,  1.01879513,  1.0177665 ,  1.01755839,  1.0173024 ,\n",
       "        1.0165861 ,  1.01711507,  1.01751354,  1.01822788,  1.01849197,\n",
       "        1.01747962,  1.0191511 ,  1.01987556,  1.02140915,  1.02033455,\n",
       "        1.01960198,  1.02003726,  1.02047542,  1.02158205,  1.02379245,\n",
       "        1.02367547,  1.02589669,  1.0271207 ,  1.02873702,  1.02938653,\n",
       "        1.02829575,  1.02721988,  1.02492589,  1.02488259,  1.02357223,\n",
       "        1.02303152,  1.02199222,  1.02137193,  1.02064189,  1.01792634,\n",
       "        1.01745659,  1.01548225,  1.01432495,  1.01269782,  1.00947127,\n",
       "        1.0063927 ,  1.0049816 ,  1.00374716,  1.00074824,  1.00002308,\n",
       "        0.99842761,  0.99583613,  0.99380585,  0.99132917,  0.98851101,\n",
       "        0.9875376 ,  0.98662094,  0.98591316,  0.98334268,  0.98196393,\n",
       "        0.97997788,  0.97849488,  0.97676537,  0.9747418 ,  0.97441826,\n",
       "        0.97392425,  0.97257127,  0.97154926,  0.97026925,  0.96918485,\n",
       "        0.9680856 ,  0.96700687,  0.96737239,  0.96754458,  0.96683926,\n",
       "        0.96648887,  0.96771722,  0.97052921,  0.9715686 ,  0.97148686,\n",
       "        0.97274717,  0.9714573 ,  0.97180562,  0.97131233,  0.97073401,\n",
       "        0.97083573,  0.97098736,  0.97118892,  0.9714404 ,  0.97174179,\n",
       "        0.97209311,  0.97249435,  0.97294551,  0.97344659,  0.97399759,\n",
       "        0.97459851,  0.97524935,  0.97595012,  0.9767008 ,  0.97750141,\n",
       "        0.97835193,  0.97925238,  0.98020274,  0.98120303,  0.98225324,\n",
       "        0.98335336,  0.98450341,  0.98570338,  0.98695327,  0.98825308,\n",
       "        0.98960282,  0.99100247,  0.99245204,  0.99395153,  0.99550095,\n",
       "        0.99710028,  0.99874954,  1.00044871,  1.00219781,  1.00399683,\n",
       "        1.00584577,  1.00774463,  1.00969341,  1.01169211,  1.01374073,\n",
       "        1.01583927,  1.01798773,  1.02018611,  1.02243442,  1.02473264,\n",
       "        1.02708079,  1.02947885,  1.03192684,  1.03442474])"
      ]
     },
     "execution_count": 183,
     "metadata": {},
     "output_type": "execute_result"
    }
   ],
   "source": [
    "d_ar_new"
   ]
  },
  {
   "cell_type": "code",
   "execution_count": 148,
   "metadata": {
    "collapsed": true
   },
   "outputs": [],
   "source": [
    "youtdz=d_ar_new\n",
    "youtd_frame=pd.DataFrame(youtdz,columns=['value'])\n",
    "yss=youtd_frame.tail(n=1)\n",
    "yss = pd.Series(yss)\n",
    "yss = pd.to_numeric(yss)\n",
    "yss=yss[0]"
   ]
  },
  {
   "cell_type": "code",
   "execution_count": 198,
   "metadata": {
    "collapsed": true
   },
   "outputs": [],
   "source": [
    "td_frame=pd.DataFrame(T,columns=['time'])\n",
    "df = pd.concat([td_frame,youtd_frame],axis=1)\n",
    "\n",
    "#dfs = pd.concat([td_frame,youtd_frame],axis=1)\n",
    "#df=df[df.value>0.01].reset_index(drop=True)"
   ]
  },
  {
   "cell_type": "code",
   "execution_count": 199,
   "metadata": {
    "collapsed": true
   },
   "outputs": [],
   "source": [
    "#adi=df.time[0]\n",
    "#timey=pd.DataFrame(list(df.time-adi),columns=['timey'])\n",
    "#df=pd.concat([df,timey],axis=1)\n"
   ]
  },
  {
   "cell_type": "code",
   "execution_count": 200,
   "metadata": {
    "scrolled": true
   },
   "outputs": [
    {
     "data": {
      "text/html": [
       "<div>\n",
       "<style>\n",
       "    .dataframe thead tr:only-child th {\n",
       "        text-align: right;\n",
       "    }\n",
       "\n",
       "    .dataframe thead th {\n",
       "        text-align: left;\n",
       "    }\n",
       "\n",
       "    .dataframe tbody tr th {\n",
       "        vertical-align: top;\n",
       "    }\n",
       "</style>\n",
       "<table border=\"1\" class=\"dataframe\">\n",
       "  <thead>\n",
       "    <tr style=\"text-align: right;\">\n",
       "      <th></th>\n",
       "      <th>time</th>\n",
       "      <th>value</th>\n",
       "    </tr>\n",
       "  </thead>\n",
       "  <tbody>\n",
       "    <tr>\n",
       "      <th>0</th>\n",
       "      <td>0.000000</td>\n",
       "      <td>0.000000</td>\n",
       "    </tr>\n",
       "    <tr>\n",
       "      <th>1</th>\n",
       "      <td>0.052359</td>\n",
       "      <td>0.009395</td>\n",
       "    </tr>\n",
       "    <tr>\n",
       "      <th>2</th>\n",
       "      <td>0.055042</td>\n",
       "      <td>0.166297</td>\n",
       "    </tr>\n",
       "    <tr>\n",
       "      <th>3</th>\n",
       "      <td>0.056421</td>\n",
       "      <td>0.195005</td>\n",
       "    </tr>\n",
       "    <tr>\n",
       "      <th>4</th>\n",
       "      <td>0.063427</td>\n",
       "      <td>0.223266</td>\n",
       "    </tr>\n",
       "    <tr>\n",
       "      <th>5</th>\n",
       "      <td>0.069719</td>\n",
       "      <td>0.251082</td>\n",
       "    </tr>\n",
       "    <tr>\n",
       "      <th>6</th>\n",
       "      <td>0.072383</td>\n",
       "      <td>0.278453</td>\n",
       "    </tr>\n",
       "    <tr>\n",
       "      <th>7</th>\n",
       "      <td>0.079365</td>\n",
       "      <td>0.305377</td>\n",
       "    </tr>\n",
       "    <tr>\n",
       "      <th>8</th>\n",
       "      <td>0.081763</td>\n",
       "      <td>0.331856</td>\n",
       "    </tr>\n",
       "    <tr>\n",
       "      <th>9</th>\n",
       "      <td>0.090813</td>\n",
       "      <td>0.357890</td>\n",
       "    </tr>\n",
       "    <tr>\n",
       "      <th>10</th>\n",
       "      <td>0.091561</td>\n",
       "      <td>0.383477</td>\n",
       "    </tr>\n",
       "    <tr>\n",
       "      <th>11</th>\n",
       "      <td>0.097278</td>\n",
       "      <td>0.408619</td>\n",
       "    </tr>\n",
       "    <tr>\n",
       "      <th>12</th>\n",
       "      <td>0.102643</td>\n",
       "      <td>0.433316</td>\n",
       "    </tr>\n",
       "    <tr>\n",
       "      <th>13</th>\n",
       "      <td>0.104716</td>\n",
       "      <td>0.457566</td>\n",
       "    </tr>\n",
       "    <tr>\n",
       "      <th>14</th>\n",
       "      <td>0.112054</td>\n",
       "      <td>0.481371</td>\n",
       "    </tr>\n",
       "    <tr>\n",
       "      <th>15</th>\n",
       "      <td>0.120853</td>\n",
       "      <td>0.504731</td>\n",
       "    </tr>\n",
       "    <tr>\n",
       "      <th>16</th>\n",
       "      <td>0.121649</td>\n",
       "      <td>0.527645</td>\n",
       "    </tr>\n",
       "    <tr>\n",
       "      <th>17</th>\n",
       "      <td>0.139922</td>\n",
       "      <td>0.550113</td>\n",
       "    </tr>\n",
       "    <tr>\n",
       "      <th>18</th>\n",
       "      <td>0.151895</td>\n",
       "      <td>0.572135</td>\n",
       "    </tr>\n",
       "    <tr>\n",
       "      <th>19</th>\n",
       "      <td>0.155057</td>\n",
       "      <td>0.593712</td>\n",
       "    </tr>\n",
       "    <tr>\n",
       "      <th>20</th>\n",
       "      <td>0.159472</td>\n",
       "      <td>0.614843</td>\n",
       "    </tr>\n",
       "    <tr>\n",
       "      <th>21</th>\n",
       "      <td>0.160739</td>\n",
       "      <td>0.635529</td>\n",
       "    </tr>\n",
       "    <tr>\n",
       "      <th>22</th>\n",
       "      <td>0.170546</td>\n",
       "      <td>0.655769</td>\n",
       "    </tr>\n",
       "    <tr>\n",
       "      <th>23</th>\n",
       "      <td>0.172129</td>\n",
       "      <td>0.675563</td>\n",
       "    </tr>\n",
       "    <tr>\n",
       "      <th>24</th>\n",
       "      <td>0.175631</td>\n",
       "      <td>0.694911</td>\n",
       "    </tr>\n",
       "    <tr>\n",
       "      <th>25</th>\n",
       "      <td>0.183305</td>\n",
       "      <td>0.713814</td>\n",
       "    </tr>\n",
       "    <tr>\n",
       "      <th>26</th>\n",
       "      <td>0.193391</td>\n",
       "      <td>0.732271</td>\n",
       "    </tr>\n",
       "    <tr>\n",
       "      <th>27</th>\n",
       "      <td>0.196226</td>\n",
       "      <td>0.750283</td>\n",
       "    </tr>\n",
       "    <tr>\n",
       "      <th>28</th>\n",
       "      <td>0.200827</td>\n",
       "      <td>0.767849</td>\n",
       "    </tr>\n",
       "    <tr>\n",
       "      <th>29</th>\n",
       "      <td>0.202852</td>\n",
       "      <td>0.784969</td>\n",
       "    </tr>\n",
       "    <tr>\n",
       "      <th>...</th>\n",
       "      <td>...</td>\n",
       "      <td>...</td>\n",
       "    </tr>\n",
       "    <tr>\n",
       "      <th>169</th>\n",
       "      <td>0.902678</td>\n",
       "      <td>0.982253</td>\n",
       "    </tr>\n",
       "    <tr>\n",
       "      <th>170</th>\n",
       "      <td>0.906230</td>\n",
       "      <td>0.983353</td>\n",
       "    </tr>\n",
       "    <tr>\n",
       "      <th>171</th>\n",
       "      <td>0.914882</td>\n",
       "      <td>0.984503</td>\n",
       "    </tr>\n",
       "    <tr>\n",
       "      <th>172</th>\n",
       "      <td>0.916716</td>\n",
       "      <td>0.985703</td>\n",
       "    </tr>\n",
       "    <tr>\n",
       "      <th>173</th>\n",
       "      <td>0.922189</td>\n",
       "      <td>0.986953</td>\n",
       "    </tr>\n",
       "    <tr>\n",
       "      <th>174</th>\n",
       "      <td>0.924846</td>\n",
       "      <td>0.988253</td>\n",
       "    </tr>\n",
       "    <tr>\n",
       "      <th>175</th>\n",
       "      <td>0.928858</td>\n",
       "      <td>0.989603</td>\n",
       "    </tr>\n",
       "    <tr>\n",
       "      <th>176</th>\n",
       "      <td>0.932559</td>\n",
       "      <td>0.991002</td>\n",
       "    </tr>\n",
       "    <tr>\n",
       "      <th>177</th>\n",
       "      <td>0.938439</td>\n",
       "      <td>0.992452</td>\n",
       "    </tr>\n",
       "    <tr>\n",
       "      <th>178</th>\n",
       "      <td>0.945061</td>\n",
       "      <td>0.993952</td>\n",
       "    </tr>\n",
       "    <tr>\n",
       "      <th>179</th>\n",
       "      <td>0.950996</td>\n",
       "      <td>0.995501</td>\n",
       "    </tr>\n",
       "    <tr>\n",
       "      <th>180</th>\n",
       "      <td>0.958612</td>\n",
       "      <td>0.997100</td>\n",
       "    </tr>\n",
       "    <tr>\n",
       "      <th>181</th>\n",
       "      <td>0.963363</td>\n",
       "      <td>0.998750</td>\n",
       "    </tr>\n",
       "    <tr>\n",
       "      <th>182</th>\n",
       "      <td>0.968234</td>\n",
       "      <td>1.000449</td>\n",
       "    </tr>\n",
       "    <tr>\n",
       "      <th>183</th>\n",
       "      <td>0.971132</td>\n",
       "      <td>1.002198</td>\n",
       "    </tr>\n",
       "    <tr>\n",
       "      <th>184</th>\n",
       "      <td>0.977070</td>\n",
       "      <td>1.003997</td>\n",
       "    </tr>\n",
       "    <tr>\n",
       "      <th>185</th>\n",
       "      <td>0.981987</td>\n",
       "      <td>1.005846</td>\n",
       "    </tr>\n",
       "    <tr>\n",
       "      <th>186</th>\n",
       "      <td>0.990361</td>\n",
       "      <td>1.007745</td>\n",
       "    </tr>\n",
       "    <tr>\n",
       "      <th>187</th>\n",
       "      <td>0.990965</td>\n",
       "      <td>1.009693</td>\n",
       "    </tr>\n",
       "    <tr>\n",
       "      <th>188</th>\n",
       "      <td>0.998219</td>\n",
       "      <td>1.011692</td>\n",
       "    </tr>\n",
       "    <tr>\n",
       "      <th>189</th>\n",
       "      <td>1.002631</td>\n",
       "      <td>1.013741</td>\n",
       "    </tr>\n",
       "    <tr>\n",
       "      <th>190</th>\n",
       "      <td>1.007471</td>\n",
       "      <td>1.015839</td>\n",
       "    </tr>\n",
       "    <tr>\n",
       "      <th>191</th>\n",
       "      <td>1.012066</td>\n",
       "      <td>1.017988</td>\n",
       "    </tr>\n",
       "    <tr>\n",
       "      <th>192</th>\n",
       "      <td>1.012202</td>\n",
       "      <td>1.020186</td>\n",
       "    </tr>\n",
       "    <tr>\n",
       "      <th>193</th>\n",
       "      <td>1.020552</td>\n",
       "      <td>1.022434</td>\n",
       "    </tr>\n",
       "    <tr>\n",
       "      <th>194</th>\n",
       "      <td>1.025326</td>\n",
       "      <td>1.024733</td>\n",
       "    </tr>\n",
       "    <tr>\n",
       "      <th>195</th>\n",
       "      <td>1.037565</td>\n",
       "      <td>1.027081</td>\n",
       "    </tr>\n",
       "    <tr>\n",
       "      <th>196</th>\n",
       "      <td>1.046857</td>\n",
       "      <td>1.029479</td>\n",
       "    </tr>\n",
       "    <tr>\n",
       "      <th>197</th>\n",
       "      <td>1.049060</td>\n",
       "      <td>1.031927</td>\n",
       "    </tr>\n",
       "    <tr>\n",
       "      <th>198</th>\n",
       "      <td>1.052272</td>\n",
       "      <td>1.034425</td>\n",
       "    </tr>\n",
       "  </tbody>\n",
       "</table>\n",
       "<p>199 rows × 2 columns</p>\n",
       "</div>"
      ],
      "text/plain": [
       "         time     value\n",
       "0    0.000000  0.000000\n",
       "1    0.052359  0.009395\n",
       "2    0.055042  0.166297\n",
       "3    0.056421  0.195005\n",
       "4    0.063427  0.223266\n",
       "5    0.069719  0.251082\n",
       "6    0.072383  0.278453\n",
       "7    0.079365  0.305377\n",
       "8    0.081763  0.331856\n",
       "9    0.090813  0.357890\n",
       "10   0.091561  0.383477\n",
       "11   0.097278  0.408619\n",
       "12   0.102643  0.433316\n",
       "13   0.104716  0.457566\n",
       "14   0.112054  0.481371\n",
       "15   0.120853  0.504731\n",
       "16   0.121649  0.527645\n",
       "17   0.139922  0.550113\n",
       "18   0.151895  0.572135\n",
       "19   0.155057  0.593712\n",
       "20   0.159472  0.614843\n",
       "21   0.160739  0.635529\n",
       "22   0.170546  0.655769\n",
       "23   0.172129  0.675563\n",
       "24   0.175631  0.694911\n",
       "25   0.183305  0.713814\n",
       "26   0.193391  0.732271\n",
       "27   0.196226  0.750283\n",
       "28   0.200827  0.767849\n",
       "29   0.202852  0.784969\n",
       "..        ...       ...\n",
       "169  0.902678  0.982253\n",
       "170  0.906230  0.983353\n",
       "171  0.914882  0.984503\n",
       "172  0.916716  0.985703\n",
       "173  0.922189  0.986953\n",
       "174  0.924846  0.988253\n",
       "175  0.928858  0.989603\n",
       "176  0.932559  0.991002\n",
       "177  0.938439  0.992452\n",
       "178  0.945061  0.993952\n",
       "179  0.950996  0.995501\n",
       "180  0.958612  0.997100\n",
       "181  0.963363  0.998750\n",
       "182  0.968234  1.000449\n",
       "183  0.971132  1.002198\n",
       "184  0.977070  1.003997\n",
       "185  0.981987  1.005846\n",
       "186  0.990361  1.007745\n",
       "187  0.990965  1.009693\n",
       "188  0.998219  1.011692\n",
       "189  1.002631  1.013741\n",
       "190  1.007471  1.015839\n",
       "191  1.012066  1.017988\n",
       "192  1.012202  1.020186\n",
       "193  1.020552  1.022434\n",
       "194  1.025326  1.024733\n",
       "195  1.037565  1.027081\n",
       "196  1.046857  1.029479\n",
       "197  1.049060  1.031927\n",
       "198  1.052272  1.034425\n",
       "\n",
       "[199 rows x 2 columns]"
      ]
     },
     "execution_count": 200,
     "metadata": {},
     "output_type": "execute_result"
    }
   ],
   "source": [
    "df"
   ]
  },
  {
   "cell_type": "code",
   "execution_count": 205,
   "metadata": {},
   "outputs": [
    {
     "data": {
      "text/plain": [
       "(0.0, 0.052359104157000014)"
      ]
     },
     "execution_count": 205,
     "metadata": {},
     "output_type": "execute_result"
    }
   ],
   "source": [
    "df.time[df.index==abs(df.value-yss1).sort_values().value_counts().max()-1].values[0],df.time[df.index==abs(df.value-yss1).sort_values().value_counts().max()].values[0]"
   ]
  },
  {
   "cell_type": "code",
   "execution_count": 224,
   "metadata": {},
   "outputs": [
    {
     "data": {
      "text/plain": [
       "(0.10344247445371023,\n",
       " 0.055042028427000012,\n",
       " 0.079365015030000041,\n",
       " 0.159471988678,\n",
       " 0.26213312149100004)"
      ]
     },
     "execution_count": 224,
     "metadata": {},
     "output_type": "execute_result"
    }
   ],
   "source": [
    "yss1=yss*0.1\n",
    "yss3=yss*0.3\n",
    "yss6=yss*0.6\n",
    "yss9=yss*0.9\n",
    "#t1 = df.time[df.index == abs(df.value-yss1).sort_values().index[0]].values[0]\n",
    "t1 = df.time[df.index==abs(df.value-yss1).sort_values().value_counts().max()+1].values[0]\n",
    "#t1 = np.mean([df.time[df.index==abs(df.value-yss1).sort_values().value_counts().max()-1].values[0],df.time[df.index==abs(df.value-yss1).sort_values().value_counts().max()].values[0]])\n",
    "t3 = df.time[df.index == abs(df.value-yss3).sort_values().index[0]].values[0]\n",
    "t6 = df.time[df.index == abs(df.value-yss6).sort_values().index[0]].values[0]\n",
    "t9 = df.time[df.index == abs(df.value-yss9).sort_values().index[0]].values[0]\n",
    "yss1,t1,t3,t6,t9"
   ]
  },
  {
   "cell_type": "code",
   "execution_count": 215,
   "metadata": {
    "collapsed": true
   },
   "outputs": [],
   "source": [
    "def fourpoint(z):\n",
    "    f1_zeta = 0.451465 + 0.066696*z + 0.013639*z**2\n",
    "    f3_zeta = 0.800879 + 0.194550*z + 0.101784*z**2\n",
    "    f6_zeta = 1.202664 + 0.288331*z + 0.530572*z**2\n",
    "    f9_zeta = 1.941112 - 1.237235*z + 3.182373*z**2\n",
    "    return f1_zeta,f3_zeta,f6_zeta,f9_zeta"
   ]
  },
  {
   "cell_type": "code",
   "execution_count": 216,
   "metadata": {
    "collapsed": true
   },
   "outputs": [],
   "source": [
    "beta = (t9 - t6)/(t3 - t1)\n",
    "zeta_est_beta = -0.460805 + 0.976315*beta - 0.254517*beta**2 + 0.028115*beta**3\n",
    "f1_zeta,f3_zeta,f6_zeta,f9_zeta = fourpoint(zeta_est_beta)"
   ]
  },
  {
   "cell_type": "code",
   "execution_count": 217,
   "metadata": {
    "collapsed": true
   },
   "outputs": [],
   "source": [
    "peak1=youtd_frame.max()\n",
    "peak1 = peak1[0]\n",
    "overshoot = (peak1 - yss)/yss\n",
    "zeta_est_overshoot = numpy.sqrt(numpy.log(overshoot)**2 / (numpy.pi**2 + numpy.log(overshoot)**2))\n",
    "f1_zeta,f3_zeta,f6_zeta,f9_zeta = fourpoint(zeta_est_overshoot)"
   ]
  },
  {
   "cell_type": "code",
   "execution_count": 218,
   "metadata": {
    "collapsed": true
   },
   "outputs": [],
   "source": [
    "def method2(z):\n",
    "    T_est2 = (t9 - t1) / (f9_zeta - f1_zeta) \n",
    "    theta_est2 = t1 - T_est2*f1_zeta\n",
    "    return T_est2,theta_est2"
   ]
  },
  {
   "cell_type": "code",
   "execution_count": 219,
   "metadata": {
    "collapsed": true
   },
   "outputs": [],
   "source": [
    "T_est2,theta_est2 = method2(zeta_est_overshoot)"
   ]
  },
  {
   "cell_type": "code",
   "execution_count": 220,
   "metadata": {},
   "outputs": [
    {
     "data": {
      "text/plain": [
       "0.011276242719185259"
      ]
     },
     "execution_count": 220,
     "metadata": {},
     "output_type": "execute_result"
    }
   ],
   "source": [
    "theta_est2"
   ]
  },
  {
   "cell_type": "code",
   "execution_count": 221,
   "metadata": {},
   "outputs": [
    {
     "data": {
      "image/png": "[encoded data removed]",
      "text/plain": [
       "<matplotlib.figure.Figure at 0x7f83218f10b8>"
      ]
     },
     "metadata": {},
     "output_type": "display_data"
    }
   ],
   "source": [
    "tf_model2 = con.matlab.tf(yss, [T_est2**2,2*zeta_est_overshoot*T_est2, 1])\n",
    "d_num2, d_den2 = con.pade(theta_est2, 1)\n",
    "delay2 = con.matlab.tf(d_num2,d_den2)\n",
    "#yout2,td2 = con.matlab.step(tf_model2,np.linspace(theta_est2,max(T)))\n",
    "yout2,td2 = con.matlab.step(tf_model2*delay2)\n",
    "plt.plot(td2,yout2,'--r',label=\"model\")\n",
    "plt.plot(T,yout,'--b',label='actual')\n",
    "plt.plot(T,xin,label='step')\n",
    "plt.title(\"Model using threepoints\")\n",
    "plt.legend()\n",
    "plt.savefig('real_data1_ar.png')"
   ]
  },
  {
   "cell_type": "code",
   "execution_count": 222,
   "metadata": {},
   "outputs": [
    {
     "data": {
      "text/plain": [
       "\n",
       "-s + 177.4\n",
       "----------\n",
       "s + 177.4"
      ]
     },
     "execution_count": 222,
     "metadata": {},
     "output_type": "execute_result"
    }
   ],
   "source": [
    "delay2"
   ]
  },
  {
   "cell_type": "code",
   "execution_count": null,
   "metadata": {
    "collapsed": true,
    "scrolled": true
   },
   "outputs": [],
   "source": [
    "con.matlab.tf2ss(tf_model2*delay2)"
   ]
  },
  {
   "cell_type": "code",
   "execution_count": null,
   "metadata": {
    "collapsed": true
   },
   "outputs": [],
   "source": [
    "Y = pd.concat([pd.DataFrame(list(df_ist_soll.index.values),columns=['time']),pd.DataFrame(yout,columns=['y_1'])],axis=1)\n",
    "X = pd.concat([pd.DataFrame(yout2,columns=['y_12']),pd.DataFrame(td2,columns=['time'])],axis=1)\n",
    "X1 = list(pd.Series(X.time))\n",
    "Y1 = list(pd.Series(Y.time))\n",
    "\n",
    "arr = []\n",
    "for i in range(0,len(X1)):\n",
    "    arr.append([])\n",
    "    for j in range(0,len(Y1)):\n",
    "        if round(abs(X1[i]))==round(abs(Y1[j])) or (round(X1[i]) == round(Y1[j]+0.5)) or (round(X1[i]+0.5) == round(Y1[j])):\n",
    "            arr[i].append(Y1[j])\n",
    "\n",
    "delphi = []\n",
    "for i in range(0,len(X1)):\n",
    "    delphi.append(min(abs(X1[i]-arr[i])))\n",
    "    \n",
    "    \n",
    "yoyo=[]\n",
    "for i in range(0,len(X1)):\n",
    "    for j in range(0,len(Y1)):\n",
    "        if abs(X1[i]-Y1[j])==delphi[i]:\n",
    "            yoyo.append(Y1[j])\n",
    "            \n",
    "y12 = []\n",
    "for i in range(0,len(X1)):\n",
    "    y12.append(list(Y.y_1[Y.time==yoyo[i]])[0])\n",
    "    \n",
    "    \n",
    "mean_squared_error(y12,yout2)"
   ]
  },
  {
   "cell_type": "code",
   "execution_count": null,
   "metadata": {
    "collapsed": true
   },
   "outputs": [],
   "source": []
  }
 ],
 "metadata": {
  "kernelspec": {
   "display_name": "Python 3",
   "language": "python",
   "name": "python3"
  },
  "language_info": {
   "codemirror_mode": {
    "name": "ipython",
    "version": 3
   },
   "file_extension": ".py",
   "mimetype": "text/x-python",
   "name": "python",
   "nbconvert_exporter": "python",
   "pygments_lexer": "ipython3",
   "version": "3.6.3"
  }
 },
 "nbformat": 4,
 "nbformat_minor": 2
}
